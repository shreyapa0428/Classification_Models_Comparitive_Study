{
 "cells": [
  {
   "cell_type": "code",
   "execution_count": 1,
   "id": "74aabbfc",
   "metadata": {},
   "outputs": [],
   "source": [
    "import pandas as pd\n",
    "import numpy as np\n",
    "from matplotlib import pyplot as plt \n",
    "import seaborn as sn"
   ]
  },
  {
   "cell_type": "code",
   "execution_count": 2,
   "id": "1984deab",
   "metadata": {},
   "outputs": [
    {
     "data": {
      "text/html": [
       "<div>\n",
       "<style scoped>\n",
       "    .dataframe tbody tr th:only-of-type {\n",
       "        vertical-align: middle;\n",
       "    }\n",
       "\n",
       "    .dataframe tbody tr th {\n",
       "        vertical-align: top;\n",
       "    }\n",
       "\n",
       "    .dataframe thead th {\n",
       "        text-align: right;\n",
       "    }\n",
       "</style>\n",
       "<table border=\"1\" class=\"dataframe\">\n",
       "  <thead>\n",
       "    <tr style=\"text-align: right;\">\n",
       "      <th></th>\n",
       "      <th>enrollee_id</th>\n",
       "      <th>city</th>\n",
       "      <th>city_development_index</th>\n",
       "      <th>gender</th>\n",
       "      <th>relevent_experience</th>\n",
       "      <th>enrolled_university</th>\n",
       "      <th>education_level</th>\n",
       "      <th>major_discipline</th>\n",
       "      <th>experience</th>\n",
       "      <th>company_size</th>\n",
       "      <th>company_type</th>\n",
       "      <th>last_new_job</th>\n",
       "      <th>training_hours</th>\n",
       "      <th>target</th>\n",
       "    </tr>\n",
       "  </thead>\n",
       "  <tbody>\n",
       "    <tr>\n",
       "      <th>0</th>\n",
       "      <td>8949</td>\n",
       "      <td>city_103</td>\n",
       "      <td>0.920</td>\n",
       "      <td>Male</td>\n",
       "      <td>Has relevent experience</td>\n",
       "      <td>no_enrollment</td>\n",
       "      <td>Graduate</td>\n",
       "      <td>STEM</td>\n",
       "      <td>&gt;20</td>\n",
       "      <td>NaN</td>\n",
       "      <td>NaN</td>\n",
       "      <td>1</td>\n",
       "      <td>36</td>\n",
       "      <td>1.0</td>\n",
       "    </tr>\n",
       "    <tr>\n",
       "      <th>1</th>\n",
       "      <td>29725</td>\n",
       "      <td>city_40</td>\n",
       "      <td>0.776</td>\n",
       "      <td>Male</td>\n",
       "      <td>No relevent experience</td>\n",
       "      <td>no_enrollment</td>\n",
       "      <td>Graduate</td>\n",
       "      <td>STEM</td>\n",
       "      <td>15</td>\n",
       "      <td>50-99</td>\n",
       "      <td>Pvt Ltd</td>\n",
       "      <td>&gt;4</td>\n",
       "      <td>47</td>\n",
       "      <td>0.0</td>\n",
       "    </tr>\n",
       "    <tr>\n",
       "      <th>2</th>\n",
       "      <td>11561</td>\n",
       "      <td>city_21</td>\n",
       "      <td>0.624</td>\n",
       "      <td>NaN</td>\n",
       "      <td>No relevent experience</td>\n",
       "      <td>Full time course</td>\n",
       "      <td>Graduate</td>\n",
       "      <td>STEM</td>\n",
       "      <td>5</td>\n",
       "      <td>NaN</td>\n",
       "      <td>NaN</td>\n",
       "      <td>never</td>\n",
       "      <td>83</td>\n",
       "      <td>0.0</td>\n",
       "    </tr>\n",
       "    <tr>\n",
       "      <th>3</th>\n",
       "      <td>33241</td>\n",
       "      <td>city_115</td>\n",
       "      <td>0.789</td>\n",
       "      <td>NaN</td>\n",
       "      <td>No relevent experience</td>\n",
       "      <td>NaN</td>\n",
       "      <td>Graduate</td>\n",
       "      <td>Business Degree</td>\n",
       "      <td>&lt;1</td>\n",
       "      <td>NaN</td>\n",
       "      <td>Pvt Ltd</td>\n",
       "      <td>never</td>\n",
       "      <td>52</td>\n",
       "      <td>1.0</td>\n",
       "    </tr>\n",
       "    <tr>\n",
       "      <th>4</th>\n",
       "      <td>666</td>\n",
       "      <td>city_162</td>\n",
       "      <td>0.767</td>\n",
       "      <td>Male</td>\n",
       "      <td>Has relevent experience</td>\n",
       "      <td>no_enrollment</td>\n",
       "      <td>Masters</td>\n",
       "      <td>STEM</td>\n",
       "      <td>&gt;20</td>\n",
       "      <td>50-99</td>\n",
       "      <td>Funded Startup</td>\n",
       "      <td>4</td>\n",
       "      <td>8</td>\n",
       "      <td>0.0</td>\n",
       "    </tr>\n",
       "    <tr>\n",
       "      <th>...</th>\n",
       "      <td>...</td>\n",
       "      <td>...</td>\n",
       "      <td>...</td>\n",
       "      <td>...</td>\n",
       "      <td>...</td>\n",
       "      <td>...</td>\n",
       "      <td>...</td>\n",
       "      <td>...</td>\n",
       "      <td>...</td>\n",
       "      <td>...</td>\n",
       "      <td>...</td>\n",
       "      <td>...</td>\n",
       "      <td>...</td>\n",
       "      <td>...</td>\n",
       "    </tr>\n",
       "    <tr>\n",
       "      <th>2124</th>\n",
       "      <td>1289</td>\n",
       "      <td>city_103</td>\n",
       "      <td>0.920</td>\n",
       "      <td>Male</td>\n",
       "      <td>No relevent experience</td>\n",
       "      <td>no_enrollment</td>\n",
       "      <td>Graduate</td>\n",
       "      <td>Humanities</td>\n",
       "      <td>16</td>\n",
       "      <td>NaN</td>\n",
       "      <td>Public Sector</td>\n",
       "      <td>4</td>\n",
       "      <td>15</td>\n",
       "      <td>NaN</td>\n",
       "    </tr>\n",
       "    <tr>\n",
       "      <th>2125</th>\n",
       "      <td>195</td>\n",
       "      <td>city_136</td>\n",
       "      <td>0.897</td>\n",
       "      <td>Male</td>\n",
       "      <td>Has relevent experience</td>\n",
       "      <td>no_enrollment</td>\n",
       "      <td>Masters</td>\n",
       "      <td>STEM</td>\n",
       "      <td>18</td>\n",
       "      <td>NaN</td>\n",
       "      <td>NaN</td>\n",
       "      <td>2</td>\n",
       "      <td>30</td>\n",
       "      <td>NaN</td>\n",
       "    </tr>\n",
       "    <tr>\n",
       "      <th>2126</th>\n",
       "      <td>31762</td>\n",
       "      <td>city_100</td>\n",
       "      <td>0.887</td>\n",
       "      <td>Male</td>\n",
       "      <td>No relevent experience</td>\n",
       "      <td>no_enrollment</td>\n",
       "      <td>Primary School</td>\n",
       "      <td>NaN</td>\n",
       "      <td>3</td>\n",
       "      <td>NaN</td>\n",
       "      <td>Pvt Ltd</td>\n",
       "      <td>never</td>\n",
       "      <td>18</td>\n",
       "      <td>NaN</td>\n",
       "    </tr>\n",
       "    <tr>\n",
       "      <th>2127</th>\n",
       "      <td>7873</td>\n",
       "      <td>city_102</td>\n",
       "      <td>0.804</td>\n",
       "      <td>Male</td>\n",
       "      <td>Has relevent experience</td>\n",
       "      <td>Full time course</td>\n",
       "      <td>High School</td>\n",
       "      <td>NaN</td>\n",
       "      <td>7</td>\n",
       "      <td>100-500</td>\n",
       "      <td>Public Sector</td>\n",
       "      <td>1</td>\n",
       "      <td>84</td>\n",
       "      <td>NaN</td>\n",
       "    </tr>\n",
       "    <tr>\n",
       "      <th>2128</th>\n",
       "      <td>12215</td>\n",
       "      <td>city_102</td>\n",
       "      <td>0.804</td>\n",
       "      <td>Male</td>\n",
       "      <td>Has relevent experience</td>\n",
       "      <td>no_enrollment</td>\n",
       "      <td>Masters</td>\n",
       "      <td>STEM</td>\n",
       "      <td>15</td>\n",
       "      <td>10000+</td>\n",
       "      <td>Pvt Ltd</td>\n",
       "      <td>2</td>\n",
       "      <td>11</td>\n",
       "      <td>NaN</td>\n",
       "    </tr>\n",
       "  </tbody>\n",
       "</table>\n",
       "<p>21287 rows × 14 columns</p>\n",
       "</div>"
      ],
      "text/plain": [
       "      enrollee_id      city  city_development_index gender  \\\n",
       "0            8949  city_103                   0.920   Male   \n",
       "1           29725   city_40                   0.776   Male   \n",
       "2           11561   city_21                   0.624    NaN   \n",
       "3           33241  city_115                   0.789    NaN   \n",
       "4             666  city_162                   0.767   Male   \n",
       "...           ...       ...                     ...    ...   \n",
       "2124         1289  city_103                   0.920   Male   \n",
       "2125          195  city_136                   0.897   Male   \n",
       "2126        31762  city_100                   0.887   Male   \n",
       "2127         7873  city_102                   0.804   Male   \n",
       "2128        12215  city_102                   0.804   Male   \n",
       "\n",
       "          relevent_experience enrolled_university education_level  \\\n",
       "0     Has relevent experience       no_enrollment        Graduate   \n",
       "1      No relevent experience       no_enrollment        Graduate   \n",
       "2      No relevent experience    Full time course        Graduate   \n",
       "3      No relevent experience                 NaN        Graduate   \n",
       "4     Has relevent experience       no_enrollment         Masters   \n",
       "...                       ...                 ...             ...   \n",
       "2124   No relevent experience       no_enrollment        Graduate   \n",
       "2125  Has relevent experience       no_enrollment         Masters   \n",
       "2126   No relevent experience       no_enrollment  Primary School   \n",
       "2127  Has relevent experience    Full time course     High School   \n",
       "2128  Has relevent experience       no_enrollment         Masters   \n",
       "\n",
       "     major_discipline experience company_size    company_type last_new_job  \\\n",
       "0                STEM        >20          NaN             NaN            1   \n",
       "1                STEM         15        50-99         Pvt Ltd           >4   \n",
       "2                STEM          5          NaN             NaN        never   \n",
       "3     Business Degree         <1          NaN         Pvt Ltd        never   \n",
       "4                STEM        >20        50-99  Funded Startup            4   \n",
       "...               ...        ...          ...             ...          ...   \n",
       "2124       Humanities         16          NaN   Public Sector            4   \n",
       "2125             STEM         18          NaN             NaN            2   \n",
       "2126              NaN          3          NaN         Pvt Ltd        never   \n",
       "2127              NaN          7      100-500   Public Sector            1   \n",
       "2128             STEM         15       10000+         Pvt Ltd            2   \n",
       "\n",
       "      training_hours  target  \n",
       "0                 36     1.0  \n",
       "1                 47     0.0  \n",
       "2                 83     0.0  \n",
       "3                 52     1.0  \n",
       "4                  8     0.0  \n",
       "...              ...     ...  \n",
       "2124              15     NaN  \n",
       "2125              30     NaN  \n",
       "2126              18     NaN  \n",
       "2127              84     NaN  \n",
       "2128              11     NaN  \n",
       "\n",
       "[21287 rows x 14 columns]"
      ]
     },
     "execution_count": 2,
     "metadata": {},
     "output_type": "execute_result"
    }
   ],
   "source": [
    "files=['aug_train.csv','aug_test.csv']\n",
    "df=pd.DataFrame()\n",
    "for file in files:\n",
    "    data = pd.read_csv(file)\n",
    "    df = pd.concat([df, data], axis=0)\n",
    "df.to_csv('final_dataset.csv', index=False)\n",
    "df"
   ]
  },
  {
   "cell_type": "markdown",
   "id": "32f957e4",
   "metadata": {},
   "source": [
    "Initial Study of the dataset for project proposal"
   ]
  },
  {
   "cell_type": "code",
   "execution_count": 3,
   "id": "2fd46584",
   "metadata": {},
   "outputs": [
    {
     "name": "stdout",
     "output_type": "stream",
     "text": [
      "21287\n",
      "Index(['enrollee_id', 'city', 'city_development_index', 'gender',\n",
      "       'relevent_experience', 'enrolled_university', 'education_level',\n",
      "       'major_discipline', 'experience', 'company_size', 'company_type',\n",
      "       'last_new_job', 'training_hours', 'target'],\n",
      "      dtype='object')\n"
     ]
    }
   ],
   "source": [
    "print(len(df.axes[0]))\n",
    "print(df.axes[1])"
   ]
  },
  {
   "cell_type": "code",
   "execution_count": 4,
   "id": "bed2ddb7",
   "metadata": {},
   "outputs": [
    {
     "name": "stdout",
     "output_type": "stream",
     "text": [
      "<class 'pandas.core.frame.DataFrame'>\n",
      "Int64Index: 21287 entries, 0 to 2128\n",
      "Data columns (total 14 columns):\n",
      " #   Column                  Non-Null Count  Dtype  \n",
      "---  ------                  --------------  -----  \n",
      " 0   enrollee_id             21287 non-null  int64  \n",
      " 1   city                    21287 non-null  object \n",
      " 2   city_development_index  21287 non-null  float64\n",
      " 3   gender                  16271 non-null  object \n",
      " 4   relevent_experience     21287 non-null  object \n",
      " 5   enrolled_university     20870 non-null  object \n",
      " 6   education_level         20775 non-null  object \n",
      " 7   major_discipline        18162 non-null  object \n",
      " 8   experience              21217 non-null  object \n",
      " 9   company_size            14727 non-null  object \n",
      " 10  company_type            14513 non-null  object \n",
      " 11  last_new_job            20824 non-null  object \n",
      " 12  training_hours          21287 non-null  int64  \n",
      " 13  target                  19158 non-null  float64\n",
      "dtypes: float64(2), int64(2), object(10)\n",
      "memory usage: 2.4+ MB\n",
      "None\n"
     ]
    },
    {
     "data": {
      "text/plain": [
       "298018"
      ]
     },
     "execution_count": 4,
     "metadata": {},
     "output_type": "execute_result"
    }
   ],
   "source": [
    "print(df.info())\n",
    "df.size"
   ]
  },
  {
   "cell_type": "code",
   "execution_count": 5,
   "id": "ae6e3f3c",
   "metadata": {},
   "outputs": [
    {
     "data": {
      "image/png": "[encoded data removed]",
      "text/plain": [
       "<Figure size 432x288 with 1 Axes>"
      ]
     },
     "metadata": {
      "needs_background": "light"
     },
     "output_type": "display_data"
    }
   ],
   "source": [
    "df['target'].value_counts().plot(kind='bar',color='orange')\n",
    "plt.show()"
   ]
  },
  {
   "cell_type": "code",
   "execution_count": 6,
   "id": "bd9649d8",
   "metadata": {},
   "outputs": [
    {
     "name": "stdout",
     "output_type": "stream",
     "text": [
      "                        enrollee_id  city_development_index  training_hours  \\\n",
      "enrollee_id                1.000000               -0.040916        0.001222   \n",
      "city_development_index    -0.040916                1.000000       -0.000556   \n",
      "training_hours             0.001222               -0.000556        1.000000   \n",
      "target                     0.049475               -0.341665       -0.021577   \n",
      "\n",
      "                          target  \n",
      "enrollee_id             0.049475  \n",
      "city_development_index -0.341665  \n",
      "training_hours         -0.021577  \n",
      "target                  1.000000  \n"
     ]
    }
   ],
   "source": [
    "print(df.corr())"
   ]
  },
  {
   "cell_type": "code",
   "execution_count": 7,
   "id": "83c9e047",
   "metadata": {},
   "outputs": [],
   "source": [
    "correlation_matrix=df.corr().round(2)"
   ]
  },
  {
   "cell_type": "code",
   "execution_count": 8,
   "id": "9df32a80",
   "metadata": {},
   "outputs": [
    {
     "data": {
      "text/plain": [
       "<AxesSubplot:>"
      ]
     },
     "execution_count": 8,
     "metadata": {},
     "output_type": "execute_result"
    },
    {
     "data": {
      "image/png": "[encoded data removed]",
      "text/plain": [
       "<Figure size 432x288 with 2 Axes>"
      ]
     },
     "metadata": {
      "needs_background": "light"
     },
     "output_type": "display_data"
    }
   ],
   "source": [
    "sn.heatmap(data=correlation_matrix, annot=True)\n"
   ]
  },
  {
   "cell_type": "markdown",
   "id": "537cb264",
   "metadata": {},
   "source": [
    "Exploratory Data Analysis and Preprocessing"
   ]
  },
  {
   "cell_type": "code",
   "execution_count": 9,
   "id": "9803b696",
   "metadata": {},
   "outputs": [
    {
     "data": {
      "text/plain": [
       "enrollee_id                  0\n",
       "city                         0\n",
       "city_development_index       0\n",
       "gender                    5016\n",
       "relevent_experience          0\n",
       "enrolled_university        417\n",
       "education_level            512\n",
       "major_discipline          3125\n",
       "experience                  70\n",
       "company_size              6560\n",
       "company_type              6774\n",
       "last_new_job               463\n",
       "training_hours               0\n",
       "target                    2129\n",
       "dtype: int64"
      ]
     },
     "execution_count": 9,
     "metadata": {},
     "output_type": "execute_result"
    }
   ],
   "source": [
    "df.isnull().sum()"
   ]
  },
  {
   "cell_type": "code",
   "execution_count": 10,
   "id": "312d8ecb",
   "metadata": {},
   "outputs": [
    {
     "name": "stdout",
     "output_type": "stream",
     "text": [
      "Distinct values in enrollee_id: [ 8949 29725 11561 ... 31762  7873 12215]\n",
      "Distinct values in city: ['city_103' 'city_40' 'city_21' 'city_115' 'city_162' 'city_176'\n",
      " 'city_160' 'city_46' 'city_61' 'city_114' 'city_13' 'city_159' 'city_102'\n",
      " 'city_67' 'city_100' 'city_16' 'city_71' 'city_104' 'city_64' 'city_101'\n",
      " 'city_83' 'city_105' 'city_73' 'city_75' 'city_41' 'city_11' 'city_93'\n",
      " 'city_90' 'city_36' 'city_20' 'city_57' 'city_152' 'city_19' 'city_65'\n",
      " 'city_74' 'city_173' 'city_136' 'city_98' 'city_97' 'city_50' 'city_138'\n",
      " 'city_82' 'city_157' 'city_89' 'city_150' 'city_70' 'city_175' 'city_94'\n",
      " 'city_28' 'city_59' 'city_165' 'city_145' 'city_142' 'city_26' 'city_12'\n",
      " 'city_37' 'city_43' 'city_116' 'city_23' 'city_99' 'city_149' 'city_10'\n",
      " 'city_45' 'city_80' 'city_128' 'city_158' 'city_123' 'city_7' 'city_72'\n",
      " 'city_106' 'city_143' 'city_78' 'city_109' 'city_24' 'city_134' 'city_48'\n",
      " 'city_144' 'city_91' 'city_146' 'city_133' 'city_126' 'city_118' 'city_9'\n",
      " 'city_167' 'city_27' 'city_84' 'city_54' 'city_39' 'city_79' 'city_76'\n",
      " 'city_77' 'city_81' 'city_131' 'city_44' 'city_117' 'city_155' 'city_33'\n",
      " 'city_141' 'city_127' 'city_62' 'city_53' 'city_25' 'city_2' 'city_69'\n",
      " 'city_120' 'city_111' 'city_30' 'city_1' 'city_140' 'city_179' 'city_55'\n",
      " 'city_14' 'city_42' 'city_107' 'city_18' 'city_139' 'city_180' 'city_166'\n",
      " 'city_121' 'city_129' 'city_8' 'city_31' 'city_171']\n",
      "Distinct values in city_development_index: [0.92  0.776 0.624 0.789 0.767 0.764 0.762 0.913 0.926 0.827 0.843 0.804\n",
      " 0.855 0.887 0.91  0.884 0.924 0.666 0.558 0.923 0.794 0.754 0.939 0.55\n",
      " 0.865 0.698 0.893 0.796 0.866 0.682 0.802 0.579 0.878 0.897 0.949 0.925\n",
      " 0.896 0.836 0.693 0.769 0.775 0.903 0.555 0.727 0.64  0.516 0.743 0.899\n",
      " 0.915 0.689 0.895 0.89  0.847 0.527 0.766 0.738 0.647 0.795 0.74  0.701\n",
      " 0.493 0.84  0.691 0.735 0.742 0.479 0.722 0.921 0.848 0.856 0.898 0.83\n",
      " 0.73  0.68  0.725 0.556 0.448 0.763 0.745 0.645 0.788 0.78  0.512 0.739\n",
      " 0.563 0.518 0.824 0.487 0.649 0.781 0.625 0.807 0.664]\n",
      "Distinct values in gender: ['Male' nan 'Female' 'Other']\n",
      "Distinct values in relevent_experience: ['Has relevent experience' 'No relevent experience']\n",
      "Distinct values in enrolled_university: ['no_enrollment' 'Full time course' nan 'Part time course']\n",
      "Distinct values in education_level: ['Graduate' 'Masters' 'High School' nan 'Phd' 'Primary School']\n",
      "Distinct values in major_discipline: ['STEM' 'Business Degree' nan 'Arts' 'Humanities' 'No Major' 'Other']\n",
      "Distinct values in experience: ['>20' '15' '5' '<1' '11' '13' '7' '17' '2' '16' '1' '4' '10' '14' '18'\n",
      " '19' '12' '3' '6' '9' '8' '20' nan]\n",
      "Distinct values in company_size: [nan '50-99' '<10' '10000+' '5000-9999' '1000-4999' '10/49' '100-500'\n",
      " '500-999']\n",
      "Distinct values in company_type: [nan 'Pvt Ltd' 'Funded Startup' 'Early Stage Startup' 'Other'\n",
      " 'Public Sector' 'NGO']\n",
      "Distinct values in last_new_job: ['1' '>4' 'never' '4' '3' '2' nan]\n",
      "Distinct values in training_hours: [ 36  47  83  52   8  24  18  46 123  32 108  23  26 106   7 132  68  50\n",
      "  48  65  13  22 148  72  40 141  82 145 206 152  42  14 112  87  20  21\n",
      "  92 102  43  45  19  90  25  15  98 142  28 228  29  12  17  35   4 136\n",
      "  27  74  86  75 332 140 182 172  33  34 150 160   3   2 210 101  59 260\n",
      " 131 109  70  51  60 164 290 133  76 156 120 100  39  55  49   6 125 326\n",
      " 198  11  41 114 246  81  31  84 105  38 178 104 202  88 218  62  10  80\n",
      "  77  37 162 190  30  16   5  54  44 110 262 107 134 103  96  57 240  94\n",
      " 113  56  64 320   9 129  58 126 166  95  97 204 116 161 146 302  53 143\n",
      " 124 214 288 306 322  67  61 130 220  78 314 226 280  91 234 163 151  85\n",
      " 256 168 144  66 128  73 122 154  63 292 188  71 135 138 184  89 157 118\n",
      " 111 192 127 216 139 196  99 167 276 121  69 155 316 242 304 284 278 310\n",
      " 222 212 250 180 258 330 158 149 165  79 194 176 174 312 200 328 300 153\n",
      " 232 336 308 147 298 224 254 248 236 170 264 119 117 334 324   1 238 266\n",
      " 282 268 244 272 294 270 286]\n",
      "Distinct values in target: [ 1.  0. nan]\n"
     ]
    }
   ],
   "source": [
    "for col in df.columns:\n",
    "    # Use the unique() function to get the distinct values in each column\n",
    "    distinct_values = df[col].unique()\n",
    "    print(f\"Distinct values in {col}: {distinct_values}\")"
   ]
  },
  {
   "cell_type": "code",
   "execution_count": 11,
   "id": "3cee0186",
   "metadata": {},
   "outputs": [],
   "source": [
    "df=df.drop('enrollee_id', axis=1)\n",
    "df=df.drop('city', axis=1)"
   ]
  },
  {
   "cell_type": "markdown",
   "id": "91e6afd6",
   "metadata": {},
   "source": [
    "Encoding categorial data"
   ]
  },
  {
   "cell_type": "code",
   "execution_count": 12,
   "id": "00408552",
   "metadata": {},
   "outputs": [
    {
     "data": {
      "text/plain": [
       "array([1., 0.])"
      ]
     },
     "execution_count": 12,
     "metadata": {},
     "output_type": "execute_result"
    }
   ],
   "source": [
    "from sklearn import preprocessing\n",
    "from sklearn.preprocessing import OrdinalEncoder\n",
    "rel_exp_order=['No relevent experience','Has relevent experience']\n",
    "ord_enc=OrdinalEncoder(categories=[rel_exp_order])\n",
    "df['relevent_experience']=ord_enc.fit_transform(df[['relevent_experience']])\n",
    "df['relevent_experience'].unique()"
   ]
  },
  {
   "cell_type": "code",
   "execution_count": 13,
   "id": "aa4a2495",
   "metadata": {},
   "outputs": [
    {
     "data": {
      "text/plain": [
       "array(['Graduate', 'Masters', 'High School', nan, 'Phd', 'Primary School'],\n",
       "      dtype=object)"
      ]
     },
     "execution_count": 13,
     "metadata": {},
     "output_type": "execute_result"
    }
   ],
   "source": [
    "df['education_level'].unique()"
   ]
  },
  {
   "cell_type": "code",
   "execution_count": 14,
   "id": "8e8ab9d0",
   "metadata": {},
   "outputs": [
    {
     "data": {
      "text/plain": [
       "169740"
      ]
     },
     "execution_count": 14,
     "metadata": {},
     "output_type": "execute_result"
    }
   ],
   "source": [
    "df=df.dropna(subset=['education_level'])\n",
    "df=df.dropna(subset=['company_size'])\n",
    "df=df.dropna(subset=['last_new_job'])\n",
    "df=df.dropna(subset=['enrolled_university'])\n",
    "df=df.dropna(subset=['experience'])\n",
    "df.size"
   ]
  },
  {
   "cell_type": "code",
   "execution_count": 15,
   "id": "1940d1c9",
   "metadata": {},
   "outputs": [
    {
     "data": {
      "text/plain": [
       "array([2., 3., 1., 4., 0.])"
      ]
     },
     "execution_count": 15,
     "metadata": {},
     "output_type": "execute_result"
    }
   ],
   "source": [
    "edu_level_order=['Primary School','High School','Graduate','Masters','Phd']\n",
    "ord_enc=OrdinalEncoder(categories=[edu_level_order])\n",
    "df['education_level']=ord_enc.fit_transform(df[['education_level']])\n",
    "df['education_level'].unique()"
   ]
  },
  {
   "cell_type": "code",
   "execution_count": 16,
   "id": "ed970049",
   "metadata": {},
   "outputs": [
    {
     "data": {
      "text/plain": [
       "array(['STEM', 'No Major', 'Humanities', 'Business Degree', 'Other',\n",
       "       'Arts'], dtype=object)"
      ]
     },
     "execution_count": 16,
     "metadata": {},
     "output_type": "execute_result"
    }
   ],
   "source": [
    "df.major_discipline=df.major_discipline.fillna('No Major')\n",
    "df['major_discipline'].unique()"
   ]
  },
  {
   "cell_type": "code",
   "execution_count": 17,
   "id": "34df54b5",
   "metadata": {},
   "outputs": [
    {
     "data": {
      "text/plain": [
       "array([5., 0., 3., 4., 1., 2.])"
      ]
     },
     "execution_count": 17,
     "metadata": {},
     "output_type": "execute_result"
    }
   ],
   "source": [
    "maj_dis_order=['No Major','Other','Arts','Humanities','Business Degree','STEM']\n",
    "ord_enc=OrdinalEncoder(categories=[maj_dis_order])\n",
    "df['major_discipline']=ord_enc.fit_transform(df[['major_discipline']])\n",
    "df['major_discipline'].unique()"
   ]
  },
  {
   "cell_type": "code",
   "execution_count": 18,
   "id": "86c989e1",
   "metadata": {},
   "outputs": [
    {
     "name": "stdout",
     "output_type": "stream",
     "text": [
      "False\n"
     ]
    }
   ],
   "source": [
    "print(df.index.is_unique)\n",
    "df = df.reset_index(drop=True)\n"
   ]
  },
  {
   "cell_type": "code",
   "execution_count": 19,
   "id": "8ad6aacc",
   "metadata": {},
   "outputs": [
    {
     "data": {
      "text/html": [
       "<div>\n",
       "<style scoped>\n",
       "    .dataframe tbody tr th:only-of-type {\n",
       "        vertical-align: middle;\n",
       "    }\n",
       "\n",
       "    .dataframe tbody tr th {\n",
       "        vertical-align: top;\n",
       "    }\n",
       "\n",
       "    .dataframe thead th {\n",
       "        text-align: right;\n",
       "    }\n",
       "</style>\n",
       "<table border=\"1\" class=\"dataframe\">\n",
       "  <thead>\n",
       "    <tr style=\"text-align: right;\">\n",
       "      <th></th>\n",
       "      <th>city_development_index</th>\n",
       "      <th>relevent_experience</th>\n",
       "      <th>education_level</th>\n",
       "      <th>major_discipline</th>\n",
       "      <th>experience</th>\n",
       "      <th>company_size</th>\n",
       "      <th>last_new_job</th>\n",
       "      <th>training_hours</th>\n",
       "      <th>target</th>\n",
       "      <th>enrolled_university_Full time course</th>\n",
       "      <th>...</th>\n",
       "      <th>enrolled_university_no_enrollment</th>\n",
       "      <th>gender_Female</th>\n",
       "      <th>gender_Male</th>\n",
       "      <th>gender_Other</th>\n",
       "      <th>company_type_Early Stage Startup</th>\n",
       "      <th>company_type_Funded Startup</th>\n",
       "      <th>company_type_NGO</th>\n",
       "      <th>company_type_Other</th>\n",
       "      <th>company_type_Public Sector</th>\n",
       "      <th>company_type_Pvt Ltd</th>\n",
       "    </tr>\n",
       "  </thead>\n",
       "  <tbody>\n",
       "    <tr>\n",
       "      <th>0</th>\n",
       "      <td>0.776</td>\n",
       "      <td>0.0</td>\n",
       "      <td>2.0</td>\n",
       "      <td>5.0</td>\n",
       "      <td>15</td>\n",
       "      <td>50-99</td>\n",
       "      <td>&gt;4</td>\n",
       "      <td>47</td>\n",
       "      <td>0.0</td>\n",
       "      <td>0.0</td>\n",
       "      <td>...</td>\n",
       "      <td>1.0</td>\n",
       "      <td>0.0</td>\n",
       "      <td>1.0</td>\n",
       "      <td>0.0</td>\n",
       "      <td>0.0</td>\n",
       "      <td>0.0</td>\n",
       "      <td>0.0</td>\n",
       "      <td>0.0</td>\n",
       "      <td>0.0</td>\n",
       "      <td>1.0</td>\n",
       "    </tr>\n",
       "    <tr>\n",
       "      <th>1</th>\n",
       "      <td>0.767</td>\n",
       "      <td>1.0</td>\n",
       "      <td>3.0</td>\n",
       "      <td>5.0</td>\n",
       "      <td>&gt;20</td>\n",
       "      <td>50-99</td>\n",
       "      <td>4</td>\n",
       "      <td>8</td>\n",
       "      <td>0.0</td>\n",
       "      <td>0.0</td>\n",
       "      <td>...</td>\n",
       "      <td>1.0</td>\n",
       "      <td>0.0</td>\n",
       "      <td>1.0</td>\n",
       "      <td>0.0</td>\n",
       "      <td>0.0</td>\n",
       "      <td>1.0</td>\n",
       "      <td>0.0</td>\n",
       "      <td>0.0</td>\n",
       "      <td>0.0</td>\n",
       "      <td>0.0</td>\n",
       "    </tr>\n",
       "    <tr>\n",
       "      <th>2</th>\n",
       "      <td>0.920</td>\n",
       "      <td>1.0</td>\n",
       "      <td>1.0</td>\n",
       "      <td>0.0</td>\n",
       "      <td>5</td>\n",
       "      <td>50-99</td>\n",
       "      <td>1</td>\n",
       "      <td>24</td>\n",
       "      <td>0.0</td>\n",
       "      <td>0.0</td>\n",
       "      <td>...</td>\n",
       "      <td>1.0</td>\n",
       "      <td>0.0</td>\n",
       "      <td>1.0</td>\n",
       "      <td>0.0</td>\n",
       "      <td>0.0</td>\n",
       "      <td>1.0</td>\n",
       "      <td>0.0</td>\n",
       "      <td>0.0</td>\n",
       "      <td>0.0</td>\n",
       "      <td>0.0</td>\n",
       "    </tr>\n",
       "    <tr>\n",
       "      <th>3</th>\n",
       "      <td>0.762</td>\n",
       "      <td>1.0</td>\n",
       "      <td>2.0</td>\n",
       "      <td>5.0</td>\n",
       "      <td>13</td>\n",
       "      <td>&lt;10</td>\n",
       "      <td>&gt;4</td>\n",
       "      <td>18</td>\n",
       "      <td>1.0</td>\n",
       "      <td>0.0</td>\n",
       "      <td>...</td>\n",
       "      <td>1.0</td>\n",
       "      <td>0.0</td>\n",
       "      <td>1.0</td>\n",
       "      <td>0.0</td>\n",
       "      <td>0.0</td>\n",
       "      <td>0.0</td>\n",
       "      <td>0.0</td>\n",
       "      <td>0.0</td>\n",
       "      <td>0.0</td>\n",
       "      <td>1.0</td>\n",
       "    </tr>\n",
       "    <tr>\n",
       "      <th>4</th>\n",
       "      <td>0.920</td>\n",
       "      <td>1.0</td>\n",
       "      <td>2.0</td>\n",
       "      <td>5.0</td>\n",
       "      <td>7</td>\n",
       "      <td>50-99</td>\n",
       "      <td>1</td>\n",
       "      <td>46</td>\n",
       "      <td>1.0</td>\n",
       "      <td>0.0</td>\n",
       "      <td>...</td>\n",
       "      <td>1.0</td>\n",
       "      <td>0.0</td>\n",
       "      <td>1.0</td>\n",
       "      <td>0.0</td>\n",
       "      <td>0.0</td>\n",
       "      <td>0.0</td>\n",
       "      <td>0.0</td>\n",
       "      <td>0.0</td>\n",
       "      <td>0.0</td>\n",
       "      <td>1.0</td>\n",
       "    </tr>\n",
       "    <tr>\n",
       "      <th>...</th>\n",
       "      <td>...</td>\n",
       "      <td>...</td>\n",
       "      <td>...</td>\n",
       "      <td>...</td>\n",
       "      <td>...</td>\n",
       "      <td>...</td>\n",
       "      <td>...</td>\n",
       "      <td>...</td>\n",
       "      <td>...</td>\n",
       "      <td>...</td>\n",
       "      <td>...</td>\n",
       "      <td>...</td>\n",
       "      <td>...</td>\n",
       "      <td>...</td>\n",
       "      <td>...</td>\n",
       "      <td>...</td>\n",
       "      <td>...</td>\n",
       "      <td>...</td>\n",
       "      <td>...</td>\n",
       "      <td>...</td>\n",
       "      <td>...</td>\n",
       "    </tr>\n",
       "    <tr>\n",
       "      <th>14140</th>\n",
       "      <td>0.939</td>\n",
       "      <td>1.0</td>\n",
       "      <td>1.0</td>\n",
       "      <td>0.0</td>\n",
       "      <td>&gt;20</td>\n",
       "      <td>100-500</td>\n",
       "      <td>2</td>\n",
       "      <td>58</td>\n",
       "      <td>NaN</td>\n",
       "      <td>0.0</td>\n",
       "      <td>...</td>\n",
       "      <td>1.0</td>\n",
       "      <td>0.0</td>\n",
       "      <td>1.0</td>\n",
       "      <td>0.0</td>\n",
       "      <td>0.0</td>\n",
       "      <td>0.0</td>\n",
       "      <td>0.0</td>\n",
       "      <td>0.0</td>\n",
       "      <td>1.0</td>\n",
       "      <td>0.0</td>\n",
       "    </tr>\n",
       "    <tr>\n",
       "      <th>14141</th>\n",
       "      <td>0.725</td>\n",
       "      <td>0.0</td>\n",
       "      <td>2.0</td>\n",
       "      <td>5.0</td>\n",
       "      <td>7</td>\n",
       "      <td>&lt;10</td>\n",
       "      <td>never</td>\n",
       "      <td>160</td>\n",
       "      <td>NaN</td>\n",
       "      <td>0.0</td>\n",
       "      <td>...</td>\n",
       "      <td>0.0</td>\n",
       "      <td>0.0</td>\n",
       "      <td>1.0</td>\n",
       "      <td>0.0</td>\n",
       "      <td>1.0</td>\n",
       "      <td>0.0</td>\n",
       "      <td>0.0</td>\n",
       "      <td>0.0</td>\n",
       "      <td>0.0</td>\n",
       "      <td>0.0</td>\n",
       "    </tr>\n",
       "    <tr>\n",
       "      <th>14142</th>\n",
       "      <td>0.878</td>\n",
       "      <td>0.0</td>\n",
       "      <td>3.0</td>\n",
       "      <td>5.0</td>\n",
       "      <td>16</td>\n",
       "      <td>&lt;10</td>\n",
       "      <td>&gt;4</td>\n",
       "      <td>58</td>\n",
       "      <td>NaN</td>\n",
       "      <td>0.0</td>\n",
       "      <td>...</td>\n",
       "      <td>1.0</td>\n",
       "      <td>0.0</td>\n",
       "      <td>1.0</td>\n",
       "      <td>0.0</td>\n",
       "      <td>0.0</td>\n",
       "      <td>0.0</td>\n",
       "      <td>0.0</td>\n",
       "      <td>0.0</td>\n",
       "      <td>0.0</td>\n",
       "      <td>1.0</td>\n",
       "    </tr>\n",
       "    <tr>\n",
       "      <th>14143</th>\n",
       "      <td>0.804</td>\n",
       "      <td>1.0</td>\n",
       "      <td>1.0</td>\n",
       "      <td>0.0</td>\n",
       "      <td>7</td>\n",
       "      <td>100-500</td>\n",
       "      <td>1</td>\n",
       "      <td>84</td>\n",
       "      <td>NaN</td>\n",
       "      <td>1.0</td>\n",
       "      <td>...</td>\n",
       "      <td>0.0</td>\n",
       "      <td>0.0</td>\n",
       "      <td>1.0</td>\n",
       "      <td>0.0</td>\n",
       "      <td>0.0</td>\n",
       "      <td>0.0</td>\n",
       "      <td>0.0</td>\n",
       "      <td>0.0</td>\n",
       "      <td>1.0</td>\n",
       "      <td>0.0</td>\n",
       "    </tr>\n",
       "    <tr>\n",
       "      <th>14144</th>\n",
       "      <td>0.804</td>\n",
       "      <td>1.0</td>\n",
       "      <td>3.0</td>\n",
       "      <td>5.0</td>\n",
       "      <td>15</td>\n",
       "      <td>10000+</td>\n",
       "      <td>2</td>\n",
       "      <td>11</td>\n",
       "      <td>NaN</td>\n",
       "      <td>0.0</td>\n",
       "      <td>...</td>\n",
       "      <td>1.0</td>\n",
       "      <td>0.0</td>\n",
       "      <td>1.0</td>\n",
       "      <td>0.0</td>\n",
       "      <td>0.0</td>\n",
       "      <td>0.0</td>\n",
       "      <td>0.0</td>\n",
       "      <td>0.0</td>\n",
       "      <td>0.0</td>\n",
       "      <td>1.0</td>\n",
       "    </tr>\n",
       "  </tbody>\n",
       "</table>\n",
       "<p>14145 rows × 21 columns</p>\n",
       "</div>"
      ],
      "text/plain": [
       "       city_development_index  relevent_experience  education_level  \\\n",
       "0                       0.776                  0.0              2.0   \n",
       "1                       0.767                  1.0              3.0   \n",
       "2                       0.920                  1.0              1.0   \n",
       "3                       0.762                  1.0              2.0   \n",
       "4                       0.920                  1.0              2.0   \n",
       "...                       ...                  ...              ...   \n",
       "14140                   0.939                  1.0              1.0   \n",
       "14141                   0.725                  0.0              2.0   \n",
       "14142                   0.878                  0.0              3.0   \n",
       "14143                   0.804                  1.0              1.0   \n",
       "14144                   0.804                  1.0              3.0   \n",
       "\n",
       "       major_discipline experience company_size last_new_job  training_hours  \\\n",
       "0                   5.0         15        50-99           >4              47   \n",
       "1                   5.0        >20        50-99            4               8   \n",
       "2                   0.0          5        50-99            1              24   \n",
       "3                   5.0         13          <10           >4              18   \n",
       "4                   5.0          7        50-99            1              46   \n",
       "...                 ...        ...          ...          ...             ...   \n",
       "14140               0.0        >20      100-500            2              58   \n",
       "14141               5.0          7          <10        never             160   \n",
       "14142               5.0         16          <10           >4              58   \n",
       "14143               0.0          7      100-500            1              84   \n",
       "14144               5.0         15       10000+            2              11   \n",
       "\n",
       "       target  enrolled_university_Full time course  ...  \\\n",
       "0         0.0                                   0.0  ...   \n",
       "1         0.0                                   0.0  ...   \n",
       "2         0.0                                   0.0  ...   \n",
       "3         1.0                                   0.0  ...   \n",
       "4         1.0                                   0.0  ...   \n",
       "...       ...                                   ...  ...   \n",
       "14140     NaN                                   0.0  ...   \n",
       "14141     NaN                                   0.0  ...   \n",
       "14142     NaN                                   0.0  ...   \n",
       "14143     NaN                                   1.0  ...   \n",
       "14144     NaN                                   0.0  ...   \n",
       "\n",
       "       enrolled_university_no_enrollment  gender_Female  gender_Male  \\\n",
       "0                                    1.0            0.0          1.0   \n",
       "1                                    1.0            0.0          1.0   \n",
       "2                                    1.0            0.0          1.0   \n",
       "3                                    1.0            0.0          1.0   \n",
       "4                                    1.0            0.0          1.0   \n",
       "...                                  ...            ...          ...   \n",
       "14140                                1.0            0.0          1.0   \n",
       "14141                                0.0            0.0          1.0   \n",
       "14142                                1.0            0.0          1.0   \n",
       "14143                                0.0            0.0          1.0   \n",
       "14144                                1.0            0.0          1.0   \n",
       "\n",
       "       gender_Other  company_type_Early Stage Startup  \\\n",
       "0               0.0                               0.0   \n",
       "1               0.0                               0.0   \n",
       "2               0.0                               0.0   \n",
       "3               0.0                               0.0   \n",
       "4               0.0                               0.0   \n",
       "...             ...                               ...   \n",
       "14140           0.0                               0.0   \n",
       "14141           0.0                               1.0   \n",
       "14142           0.0                               0.0   \n",
       "14143           0.0                               0.0   \n",
       "14144           0.0                               0.0   \n",
       "\n",
       "       company_type_Funded Startup  company_type_NGO  company_type_Other  \\\n",
       "0                              0.0               0.0                 0.0   \n",
       "1                              1.0               0.0                 0.0   \n",
       "2                              1.0               0.0                 0.0   \n",
       "3                              0.0               0.0                 0.0   \n",
       "4                              0.0               0.0                 0.0   \n",
       "...                            ...               ...                 ...   \n",
       "14140                          0.0               0.0                 0.0   \n",
       "14141                          0.0               0.0                 0.0   \n",
       "14142                          0.0               0.0                 0.0   \n",
       "14143                          0.0               0.0                 0.0   \n",
       "14144                          0.0               0.0                 0.0   \n",
       "\n",
       "       company_type_Public Sector  company_type_Pvt Ltd  \n",
       "0                             0.0                   1.0  \n",
       "1                             0.0                   0.0  \n",
       "2                             0.0                   0.0  \n",
       "3                             0.0                   1.0  \n",
       "4                             0.0                   1.0  \n",
       "...                           ...                   ...  \n",
       "14140                         1.0                   0.0  \n",
       "14141                         0.0                   0.0  \n",
       "14142                         0.0                   1.0  \n",
       "14143                         1.0                   0.0  \n",
       "14144                         0.0                   1.0  \n",
       "\n",
       "[14145 rows x 21 columns]"
      ]
     },
     "execution_count": 19,
     "metadata": {},
     "output_type": "execute_result"
    }
   ],
   "source": [
    "from sklearn.preprocessing import OneHotEncoder\n",
    "#one_hot_enc.fit_transform(data[['column']])\n",
    "onehot_enc=OneHotEncoder(handle_unknown='ignore')\n",
    "enrolled_uni_encoded=onehot_enc.fit_transform(df[['enrolled_university']]).toarray()\n",
    "course=pd.DataFrame(enrolled_uni_encoded)\n",
    "course.columns=onehot_enc.get_feature_names_out(['enrolled_university'])\n",
    "\n",
    "gender_enc=onehot_enc.fit_transform(df[['gender']]).toarray()\n",
    "gender_new=pd.DataFrame(gender_enc)\n",
    "gender_new.columns=onehot_enc.get_feature_names_out(['gender'])\n",
    "\n",
    "company_enc=onehot_enc.fit_transform(df[['company_type']]).toarray()\n",
    "company_new=pd.DataFrame(company_enc)\n",
    "company_new.columns=onehot_enc.get_feature_names_out(['company_type'])\n",
    "new_df=pd.concat([df,course,gender_new,company_new],axis=1)\n",
    "\n",
    "new_df=new_df.drop('enrolled_university',axis=1)\n",
    "new_df=new_df.drop('gender',axis=1)\n",
    "new_df=new_df.drop('gender_nan',axis=1)\n",
    "new_df=new_df.drop('company_type',axis=1)\n",
    "new_df=new_df.drop('company_type_nan',axis=1)\n",
    "new_df\n"
   ]
  },
  {
   "cell_type": "code",
   "execution_count": 20,
   "id": "27951d9f",
   "metadata": {},
   "outputs": [],
   "source": [
    "#df['Fee'] = np.where(df['Fee'] >= 22000, 15000, df['Fee'])\n",
    "#new_df['company_size'] = np.where(df['company_size'] == 50-99, 75,new_df['company_size'])\n",
    "new_df['company_size'] = new_df['company_size'].mask(new_df['company_size']=='50-99',75)\n",
    "new_df['company_size']=new_df['company_size'].mask(new_df['company_size']=='5000-9999',7500)\n",
    "new_df['company_size']=new_df['company_size'].mask(new_df['company_size']=='1000-4999',3000)\n",
    "new_df['company_size']=new_df['company_size'].mask(new_df['company_size']=='100-500',300)\n",
    "new_df['company_size']=new_df['company_size'].mask(new_df['company_size']=='500-999',750)\n",
    "new_df['company_size']=new_df['company_size'].mask(new_df['company_size']=='10/49',30)\n",
    "new_df['company_size']=new_df['company_size'].mask(new_df['company_size']=='<10',5)\n",
    "new_df['company_size']=new_df['company_size'].mask(new_df['company_size']=='10000+',15000)\n",
    "#new_df['company_size']=new_df['company_size'].replace(['50-99','74.5'],['<10','5'],['10000+','15000'],['5000-9999','7499.5'],['1000-4999','2999.5'])"
   ]
  },
  {
   "cell_type": "code",
   "execution_count": 21,
   "id": "0d7579da",
   "metadata": {},
   "outputs": [
    {
     "data": {
      "text/plain": [
       "0           75\n",
       "1           75\n",
       "2           75\n",
       "3            5\n",
       "4           75\n",
       "         ...  \n",
       "14140      300\n",
       "14141        5\n",
       "14142        5\n",
       "14143      300\n",
       "14144    15000\n",
       "Name: company_size, Length: 14145, dtype: object"
      ]
     },
     "execution_count": 21,
     "metadata": {},
     "output_type": "execute_result"
    }
   ],
   "source": [
    "new_df['company_size']"
   ]
  },
  {
   "cell_type": "code",
   "execution_count": 22,
   "id": "9558f970",
   "metadata": {},
   "outputs": [
    {
     "data": {
      "text/plain": [
       "array([15., 21.,  5., 13.,  7., 17., 16.,  1.,  2., 11.,  0., 14., 18.,\n",
       "       19., 12., 10.,  4.,  6.,  9.,  3.,  8., 20.])"
      ]
     },
     "execution_count": 22,
     "metadata": {},
     "output_type": "execute_result"
    }
   ],
   "source": [
    "new_df=new_df.dropna(subset=['experience'])\n",
    "new_df['experience']=new_df['experience'].mask(new_df['experience']=='>20','21')\n",
    "new_df['experience']=new_df['experience'].mask(new_df['experience']=='<1','0')\n",
    "\n",
    "exp_order=['0','1','2','3','4','5','6','7','8','9','10','11','12','13','14','15','16','17','18','19','20','21']\n",
    "ord_enc=OrdinalEncoder(categories=[exp_order])\n",
    "new_df['experience']=ord_enc.fit_transform(new_df[['experience']])\n",
    "new_df['experience'].unique()"
   ]
  },
  {
   "cell_type": "code",
   "execution_count": 23,
   "id": "7b54b31b",
   "metadata": {},
   "outputs": [
    {
     "data": {
      "text/plain": [
       "array([5., 4., 1., 3., 0., 2.])"
      ]
     },
     "execution_count": 23,
     "metadata": {},
     "output_type": "execute_result"
    }
   ],
   "source": [
    "new_df=new_df.dropna(subset=['last_new_job'])\n",
    "new_df['last_new_job']=new_df['last_new_job'].mask(new_df['last_new_job']=='>4','5')\n",
    "new_df['last_new_job']=new_df['last_new_job'].mask(new_df['last_new_job']=='never','0')\n",
    "\n",
    "job_order=['0','1','2','3','4','5']\n",
    "ord_enc=OrdinalEncoder(categories=[job_order])\n",
    "new_df['last_new_job']=ord_enc.fit_transform(new_df[['last_new_job']])\n",
    "new_df['last_new_job'].unique()"
   ]
  },
  {
   "cell_type": "code",
   "execution_count": 24,
   "id": "56d1fc84",
   "metadata": {},
   "outputs": [
    {
     "data": {
      "text/html": [
       "<div>\n",
       "<style scoped>\n",
       "    .dataframe tbody tr th:only-of-type {\n",
       "        vertical-align: middle;\n",
       "    }\n",
       "\n",
       "    .dataframe tbody tr th {\n",
       "        vertical-align: top;\n",
       "    }\n",
       "\n",
       "    .dataframe thead th {\n",
       "        text-align: right;\n",
       "    }\n",
       "</style>\n",
       "<table border=\"1\" class=\"dataframe\">\n",
       "  <thead>\n",
       "    <tr style=\"text-align: right;\">\n",
       "      <th></th>\n",
       "      <th>city_development_index</th>\n",
       "      <th>relevent_experience</th>\n",
       "      <th>education_level</th>\n",
       "      <th>major_discipline</th>\n",
       "      <th>experience</th>\n",
       "      <th>company_size</th>\n",
       "      <th>last_new_job</th>\n",
       "      <th>training_hours</th>\n",
       "      <th>target</th>\n",
       "      <th>enrolled_university_Full time course</th>\n",
       "      <th>...</th>\n",
       "      <th>enrolled_university_no_enrollment</th>\n",
       "      <th>gender_Female</th>\n",
       "      <th>gender_Male</th>\n",
       "      <th>gender_Other</th>\n",
       "      <th>company_type_Early Stage Startup</th>\n",
       "      <th>company_type_Funded Startup</th>\n",
       "      <th>company_type_NGO</th>\n",
       "      <th>company_type_Other</th>\n",
       "      <th>company_type_Public Sector</th>\n",
       "      <th>company_type_Pvt Ltd</th>\n",
       "    </tr>\n",
       "  </thead>\n",
       "  <tbody>\n",
       "    <tr>\n",
       "      <th>0</th>\n",
       "      <td>0.776</td>\n",
       "      <td>0.0</td>\n",
       "      <td>2.0</td>\n",
       "      <td>5.0</td>\n",
       "      <td>15.0</td>\n",
       "      <td>75</td>\n",
       "      <td>5.0</td>\n",
       "      <td>47</td>\n",
       "      <td>0.0</td>\n",
       "      <td>0.0</td>\n",
       "      <td>...</td>\n",
       "      <td>1.0</td>\n",
       "      <td>0.0</td>\n",
       "      <td>1.0</td>\n",
       "      <td>0.0</td>\n",
       "      <td>0.0</td>\n",
       "      <td>0.0</td>\n",
       "      <td>0.0</td>\n",
       "      <td>0.0</td>\n",
       "      <td>0.0</td>\n",
       "      <td>1.0</td>\n",
       "    </tr>\n",
       "    <tr>\n",
       "      <th>1</th>\n",
       "      <td>0.767</td>\n",
       "      <td>1.0</td>\n",
       "      <td>3.0</td>\n",
       "      <td>5.0</td>\n",
       "      <td>21.0</td>\n",
       "      <td>75</td>\n",
       "      <td>4.0</td>\n",
       "      <td>8</td>\n",
       "      <td>0.0</td>\n",
       "      <td>0.0</td>\n",
       "      <td>...</td>\n",
       "      <td>1.0</td>\n",
       "      <td>0.0</td>\n",
       "      <td>1.0</td>\n",
       "      <td>0.0</td>\n",
       "      <td>0.0</td>\n",
       "      <td>1.0</td>\n",
       "      <td>0.0</td>\n",
       "      <td>0.0</td>\n",
       "      <td>0.0</td>\n",
       "      <td>0.0</td>\n",
       "    </tr>\n",
       "    <tr>\n",
       "      <th>2</th>\n",
       "      <td>0.920</td>\n",
       "      <td>1.0</td>\n",
       "      <td>1.0</td>\n",
       "      <td>0.0</td>\n",
       "      <td>5.0</td>\n",
       "      <td>75</td>\n",
       "      <td>1.0</td>\n",
       "      <td>24</td>\n",
       "      <td>0.0</td>\n",
       "      <td>0.0</td>\n",
       "      <td>...</td>\n",
       "      <td>1.0</td>\n",
       "      <td>0.0</td>\n",
       "      <td>1.0</td>\n",
       "      <td>0.0</td>\n",
       "      <td>0.0</td>\n",
       "      <td>1.0</td>\n",
       "      <td>0.0</td>\n",
       "      <td>0.0</td>\n",
       "      <td>0.0</td>\n",
       "      <td>0.0</td>\n",
       "    </tr>\n",
       "    <tr>\n",
       "      <th>3</th>\n",
       "      <td>0.762</td>\n",
       "      <td>1.0</td>\n",
       "      <td>2.0</td>\n",
       "      <td>5.0</td>\n",
       "      <td>13.0</td>\n",
       "      <td>5</td>\n",
       "      <td>5.0</td>\n",
       "      <td>18</td>\n",
       "      <td>1.0</td>\n",
       "      <td>0.0</td>\n",
       "      <td>...</td>\n",
       "      <td>1.0</td>\n",
       "      <td>0.0</td>\n",
       "      <td>1.0</td>\n",
       "      <td>0.0</td>\n",
       "      <td>0.0</td>\n",
       "      <td>0.0</td>\n",
       "      <td>0.0</td>\n",
       "      <td>0.0</td>\n",
       "      <td>0.0</td>\n",
       "      <td>1.0</td>\n",
       "    </tr>\n",
       "    <tr>\n",
       "      <th>4</th>\n",
       "      <td>0.920</td>\n",
       "      <td>1.0</td>\n",
       "      <td>2.0</td>\n",
       "      <td>5.0</td>\n",
       "      <td>7.0</td>\n",
       "      <td>75</td>\n",
       "      <td>1.0</td>\n",
       "      <td>46</td>\n",
       "      <td>1.0</td>\n",
       "      <td>0.0</td>\n",
       "      <td>...</td>\n",
       "      <td>1.0</td>\n",
       "      <td>0.0</td>\n",
       "      <td>1.0</td>\n",
       "      <td>0.0</td>\n",
       "      <td>0.0</td>\n",
       "      <td>0.0</td>\n",
       "      <td>0.0</td>\n",
       "      <td>0.0</td>\n",
       "      <td>0.0</td>\n",
       "      <td>1.0</td>\n",
       "    </tr>\n",
       "    <tr>\n",
       "      <th>...</th>\n",
       "      <td>...</td>\n",
       "      <td>...</td>\n",
       "      <td>...</td>\n",
       "      <td>...</td>\n",
       "      <td>...</td>\n",
       "      <td>...</td>\n",
       "      <td>...</td>\n",
       "      <td>...</td>\n",
       "      <td>...</td>\n",
       "      <td>...</td>\n",
       "      <td>...</td>\n",
       "      <td>...</td>\n",
       "      <td>...</td>\n",
       "      <td>...</td>\n",
       "      <td>...</td>\n",
       "      <td>...</td>\n",
       "      <td>...</td>\n",
       "      <td>...</td>\n",
       "      <td>...</td>\n",
       "      <td>...</td>\n",
       "      <td>...</td>\n",
       "    </tr>\n",
       "    <tr>\n",
       "      <th>14140</th>\n",
       "      <td>0.939</td>\n",
       "      <td>1.0</td>\n",
       "      <td>1.0</td>\n",
       "      <td>0.0</td>\n",
       "      <td>21.0</td>\n",
       "      <td>300</td>\n",
       "      <td>2.0</td>\n",
       "      <td>58</td>\n",
       "      <td>NaN</td>\n",
       "      <td>0.0</td>\n",
       "      <td>...</td>\n",
       "      <td>1.0</td>\n",
       "      <td>0.0</td>\n",
       "      <td>1.0</td>\n",
       "      <td>0.0</td>\n",
       "      <td>0.0</td>\n",
       "      <td>0.0</td>\n",
       "      <td>0.0</td>\n",
       "      <td>0.0</td>\n",
       "      <td>1.0</td>\n",
       "      <td>0.0</td>\n",
       "    </tr>\n",
       "    <tr>\n",
       "      <th>14141</th>\n",
       "      <td>0.725</td>\n",
       "      <td>0.0</td>\n",
       "      <td>2.0</td>\n",
       "      <td>5.0</td>\n",
       "      <td>7.0</td>\n",
       "      <td>5</td>\n",
       "      <td>0.0</td>\n",
       "      <td>160</td>\n",
       "      <td>NaN</td>\n",
       "      <td>0.0</td>\n",
       "      <td>...</td>\n",
       "      <td>0.0</td>\n",
       "      <td>0.0</td>\n",
       "      <td>1.0</td>\n",
       "      <td>0.0</td>\n",
       "      <td>1.0</td>\n",
       "      <td>0.0</td>\n",
       "      <td>0.0</td>\n",
       "      <td>0.0</td>\n",
       "      <td>0.0</td>\n",
       "      <td>0.0</td>\n",
       "    </tr>\n",
       "    <tr>\n",
       "      <th>14142</th>\n",
       "      <td>0.878</td>\n",
       "      <td>0.0</td>\n",
       "      <td>3.0</td>\n",
       "      <td>5.0</td>\n",
       "      <td>16.0</td>\n",
       "      <td>5</td>\n",
       "      <td>5.0</td>\n",
       "      <td>58</td>\n",
       "      <td>NaN</td>\n",
       "      <td>0.0</td>\n",
       "      <td>...</td>\n",
       "      <td>1.0</td>\n",
       "      <td>0.0</td>\n",
       "      <td>1.0</td>\n",
       "      <td>0.0</td>\n",
       "      <td>0.0</td>\n",
       "      <td>0.0</td>\n",
       "      <td>0.0</td>\n",
       "      <td>0.0</td>\n",
       "      <td>0.0</td>\n",
       "      <td>1.0</td>\n",
       "    </tr>\n",
       "    <tr>\n",
       "      <th>14143</th>\n",
       "      <td>0.804</td>\n",
       "      <td>1.0</td>\n",
       "      <td>1.0</td>\n",
       "      <td>0.0</td>\n",
       "      <td>7.0</td>\n",
       "      <td>300</td>\n",
       "      <td>1.0</td>\n",
       "      <td>84</td>\n",
       "      <td>NaN</td>\n",
       "      <td>1.0</td>\n",
       "      <td>...</td>\n",
       "      <td>0.0</td>\n",
       "      <td>0.0</td>\n",
       "      <td>1.0</td>\n",
       "      <td>0.0</td>\n",
       "      <td>0.0</td>\n",
       "      <td>0.0</td>\n",
       "      <td>0.0</td>\n",
       "      <td>0.0</td>\n",
       "      <td>1.0</td>\n",
       "      <td>0.0</td>\n",
       "    </tr>\n",
       "    <tr>\n",
       "      <th>14144</th>\n",
       "      <td>0.804</td>\n",
       "      <td>1.0</td>\n",
       "      <td>3.0</td>\n",
       "      <td>5.0</td>\n",
       "      <td>15.0</td>\n",
       "      <td>15000</td>\n",
       "      <td>2.0</td>\n",
       "      <td>11</td>\n",
       "      <td>NaN</td>\n",
       "      <td>0.0</td>\n",
       "      <td>...</td>\n",
       "      <td>1.0</td>\n",
       "      <td>0.0</td>\n",
       "      <td>1.0</td>\n",
       "      <td>0.0</td>\n",
       "      <td>0.0</td>\n",
       "      <td>0.0</td>\n",
       "      <td>0.0</td>\n",
       "      <td>0.0</td>\n",
       "      <td>0.0</td>\n",
       "      <td>1.0</td>\n",
       "    </tr>\n",
       "  </tbody>\n",
       "</table>\n",
       "<p>14145 rows × 21 columns</p>\n",
       "</div>"
      ],
      "text/plain": [
       "       city_development_index  relevent_experience  education_level  \\\n",
       "0                       0.776                  0.0              2.0   \n",
       "1                       0.767                  1.0              3.0   \n",
       "2                       0.920                  1.0              1.0   \n",
       "3                       0.762                  1.0              2.0   \n",
       "4                       0.920                  1.0              2.0   \n",
       "...                       ...                  ...              ...   \n",
       "14140                   0.939                  1.0              1.0   \n",
       "14141                   0.725                  0.0              2.0   \n",
       "14142                   0.878                  0.0              3.0   \n",
       "14143                   0.804                  1.0              1.0   \n",
       "14144                   0.804                  1.0              3.0   \n",
       "\n",
       "       major_discipline  experience company_size  last_new_job  \\\n",
       "0                   5.0        15.0           75           5.0   \n",
       "1                   5.0        21.0           75           4.0   \n",
       "2                   0.0         5.0           75           1.0   \n",
       "3                   5.0        13.0            5           5.0   \n",
       "4                   5.0         7.0           75           1.0   \n",
       "...                 ...         ...          ...           ...   \n",
       "14140               0.0        21.0          300           2.0   \n",
       "14141               5.0         7.0            5           0.0   \n",
       "14142               5.0        16.0            5           5.0   \n",
       "14143               0.0         7.0          300           1.0   \n",
       "14144               5.0        15.0        15000           2.0   \n",
       "\n",
       "       training_hours  target  enrolled_university_Full time course  ...  \\\n",
       "0                  47     0.0                                   0.0  ...   \n",
       "1                   8     0.0                                   0.0  ...   \n",
       "2                  24     0.0                                   0.0  ...   \n",
       "3                  18     1.0                                   0.0  ...   \n",
       "4                  46     1.0                                   0.0  ...   \n",
       "...               ...     ...                                   ...  ...   \n",
       "14140              58     NaN                                   0.0  ...   \n",
       "14141             160     NaN                                   0.0  ...   \n",
       "14142              58     NaN                                   0.0  ...   \n",
       "14143              84     NaN                                   1.0  ...   \n",
       "14144              11     NaN                                   0.0  ...   \n",
       "\n",
       "       enrolled_university_no_enrollment  gender_Female  gender_Male  \\\n",
       "0                                    1.0            0.0          1.0   \n",
       "1                                    1.0            0.0          1.0   \n",
       "2                                    1.0            0.0          1.0   \n",
       "3                                    1.0            0.0          1.0   \n",
       "4                                    1.0            0.0          1.0   \n",
       "...                                  ...            ...          ...   \n",
       "14140                                1.0            0.0          1.0   \n",
       "14141                                0.0            0.0          1.0   \n",
       "14142                                1.0            0.0          1.0   \n",
       "14143                                0.0            0.0          1.0   \n",
       "14144                                1.0            0.0          1.0   \n",
       "\n",
       "       gender_Other  company_type_Early Stage Startup  \\\n",
       "0               0.0                               0.0   \n",
       "1               0.0                               0.0   \n",
       "2               0.0                               0.0   \n",
       "3               0.0                               0.0   \n",
       "4               0.0                               0.0   \n",
       "...             ...                               ...   \n",
       "14140           0.0                               0.0   \n",
       "14141           0.0                               1.0   \n",
       "14142           0.0                               0.0   \n",
       "14143           0.0                               0.0   \n",
       "14144           0.0                               0.0   \n",
       "\n",
       "       company_type_Funded Startup  company_type_NGO  company_type_Other  \\\n",
       "0                              0.0               0.0                 0.0   \n",
       "1                              1.0               0.0                 0.0   \n",
       "2                              1.0               0.0                 0.0   \n",
       "3                              0.0               0.0                 0.0   \n",
       "4                              0.0               0.0                 0.0   \n",
       "...                            ...               ...                 ...   \n",
       "14140                          0.0               0.0                 0.0   \n",
       "14141                          0.0               0.0                 0.0   \n",
       "14142                          0.0               0.0                 0.0   \n",
       "14143                          0.0               0.0                 0.0   \n",
       "14144                          0.0               0.0                 0.0   \n",
       "\n",
       "       company_type_Public Sector  company_type_Pvt Ltd  \n",
       "0                             0.0                   1.0  \n",
       "1                             0.0                   0.0  \n",
       "2                             0.0                   0.0  \n",
       "3                             0.0                   1.0  \n",
       "4                             0.0                   1.0  \n",
       "...                           ...                   ...  \n",
       "14140                         1.0                   0.0  \n",
       "14141                         0.0                   0.0  \n",
       "14142                         0.0                   1.0  \n",
       "14143                         1.0                   0.0  \n",
       "14144                         0.0                   1.0  \n",
       "\n",
       "[14145 rows x 21 columns]"
      ]
     },
     "execution_count": 24,
     "metadata": {},
     "output_type": "execute_result"
    }
   ],
   "source": [
    "new_df"
   ]
  },
  {
   "cell_type": "code",
   "execution_count": 25,
   "id": "3db42970",
   "metadata": {},
   "outputs": [
    {
     "data": {
      "text/plain": [
       "city_development_index                     0\n",
       "relevent_experience                        0\n",
       "education_level                            0\n",
       "major_discipline                           0\n",
       "experience                                 0\n",
       "company_size                               0\n",
       "last_new_job                               0\n",
       "training_hours                             0\n",
       "target                                  1441\n",
       "enrolled_university_Full time course       0\n",
       "enrolled_university_Part time course       0\n",
       "enrolled_university_no_enrollment          0\n",
       "gender_Female                              0\n",
       "gender_Male                                0\n",
       "gender_Other                               0\n",
       "company_type_Early Stage Startup           0\n",
       "company_type_Funded Startup                0\n",
       "company_type_NGO                           0\n",
       "company_type_Other                         0\n",
       "company_type_Public Sector                 0\n",
       "company_type_Pvt Ltd                       0\n",
       "dtype: int64"
      ]
     },
     "execution_count": 25,
     "metadata": {},
     "output_type": "execute_result"
    }
   ],
   "source": [
    "new_df.isnull().sum()"
   ]
  },
  {
   "cell_type": "code",
   "execution_count": 26,
   "id": "ce9c09f8",
   "metadata": {},
   "outputs": [],
   "source": [
    "new_df=new_df.dropna(subset=['target'])\n"
   ]
  },
  {
   "cell_type": "code",
   "execution_count": 27,
   "id": "8d99577f",
   "metadata": {},
   "outputs": [
    {
     "name": "stderr",
     "output_type": "stream",
     "text": [
      "<ipython-input-27-fe996a3260b1>:7: SettingWithCopyWarning: \n",
      "A value is trying to be set on a copy of a slice from a DataFrame.\n",
      "Try using .loc[row_indexer,col_indexer] = value instead\n",
      "\n",
      "See the caveats in the documentation: https://pandas.pydata.org/pandas-docs/stable/user_guide/indexing.html#returning-a-view-versus-a-copy\n",
      "  new_df['training_hours'] = scaled_col\n",
      "<ipython-input-27-fe996a3260b1>:13: SettingWithCopyWarning: \n",
      "A value is trying to be set on a copy of a slice from a DataFrame.\n",
      "Try using .loc[row_indexer,col_indexer] = value instead\n",
      "\n",
      "See the caveats in the documentation: https://pandas.pydata.org/pandas-docs/stable/user_guide/indexing.html#returning-a-view-versus-a-copy\n",
      "  new_df['company_size']=scaled_col\n"
     ]
    }
   ],
   "source": [
    "from sklearn.preprocessing import StandardScaler\n",
    "import pandas as pd\n",
    "col_to_scale = new_df['training_hours']\n",
    "scaler = StandardScaler()\n",
    "scaler.fit(col_to_scale.values.reshape(-1, 1))\n",
    "scaled_col = scaler.transform(col_to_scale.values.reshape(-1, 1)).flatten()\n",
    "new_df['training_hours'] = scaled_col\n",
    "\n",
    "\n",
    "col_to_scale=new_df['company_size']\n",
    "scaler.fit(col_to_scale.values.reshape(-1, 1))\n",
    "scaled_col = scaler.transform(col_to_scale.values.reshape(-1, 1)).flatten()\n",
    "new_df['company_size']=scaled_col"
   ]
  },
  {
   "cell_type": "code",
   "execution_count": 28,
   "id": "52bf2008",
   "metadata": {},
   "outputs": [
    {
     "data": {
      "text/html": [
       "<div>\n",
       "<style scoped>\n",
       "    .dataframe tbody tr th:only-of-type {\n",
       "        vertical-align: middle;\n",
       "    }\n",
       "\n",
       "    .dataframe tbody tr th {\n",
       "        vertical-align: top;\n",
       "    }\n",
       "\n",
       "    .dataframe thead th {\n",
       "        text-align: right;\n",
       "    }\n",
       "</style>\n",
       "<table border=\"1\" class=\"dataframe\">\n",
       "  <thead>\n",
       "    <tr style=\"text-align: right;\">\n",
       "      <th></th>\n",
       "      <th>city_development_index</th>\n",
       "      <th>relevent_experience</th>\n",
       "      <th>education_level</th>\n",
       "      <th>major_discipline</th>\n",
       "      <th>experience</th>\n",
       "      <th>company_size</th>\n",
       "      <th>last_new_job</th>\n",
       "      <th>training_hours</th>\n",
       "      <th>target</th>\n",
       "      <th>enrolled_university_Full time course</th>\n",
       "      <th>...</th>\n",
       "      <th>enrolled_university_no_enrollment</th>\n",
       "      <th>gender_Female</th>\n",
       "      <th>gender_Male</th>\n",
       "      <th>gender_Other</th>\n",
       "      <th>company_type_Early Stage Startup</th>\n",
       "      <th>company_type_Funded Startup</th>\n",
       "      <th>company_type_NGO</th>\n",
       "      <th>company_type_Other</th>\n",
       "      <th>company_type_Public Sector</th>\n",
       "      <th>company_type_Pvt Ltd</th>\n",
       "    </tr>\n",
       "  </thead>\n",
       "  <tbody>\n",
       "    <tr>\n",
       "      <th>0</th>\n",
       "      <td>0.776</td>\n",
       "      <td>0.0</td>\n",
       "      <td>2.0</td>\n",
       "      <td>5.0</td>\n",
       "      <td>15.0</td>\n",
       "      <td>-0.559195</td>\n",
       "      <td>5.0</td>\n",
       "      <td>-0.308620</td>\n",
       "      <td>0.0</td>\n",
       "      <td>0.0</td>\n",
       "      <td>...</td>\n",
       "      <td>1.0</td>\n",
       "      <td>0.0</td>\n",
       "      <td>1.0</td>\n",
       "      <td>0.0</td>\n",
       "      <td>0.0</td>\n",
       "      <td>0.0</td>\n",
       "      <td>0.0</td>\n",
       "      <td>0.0</td>\n",
       "      <td>0.0</td>\n",
       "      <td>1.0</td>\n",
       "    </tr>\n",
       "    <tr>\n",
       "      <th>1</th>\n",
       "      <td>0.767</td>\n",
       "      <td>1.0</td>\n",
       "      <td>3.0</td>\n",
       "      <td>5.0</td>\n",
       "      <td>21.0</td>\n",
       "      <td>-0.559195</td>\n",
       "      <td>4.0</td>\n",
       "      <td>-0.951443</td>\n",
       "      <td>0.0</td>\n",
       "      <td>0.0</td>\n",
       "      <td>...</td>\n",
       "      <td>1.0</td>\n",
       "      <td>0.0</td>\n",
       "      <td>1.0</td>\n",
       "      <td>0.0</td>\n",
       "      <td>0.0</td>\n",
       "      <td>1.0</td>\n",
       "      <td>0.0</td>\n",
       "      <td>0.0</td>\n",
       "      <td>0.0</td>\n",
       "      <td>0.0</td>\n",
       "    </tr>\n",
       "    <tr>\n",
       "      <th>2</th>\n",
       "      <td>0.920</td>\n",
       "      <td>1.0</td>\n",
       "      <td>1.0</td>\n",
       "      <td>0.0</td>\n",
       "      <td>5.0</td>\n",
       "      <td>-0.559195</td>\n",
       "      <td>1.0</td>\n",
       "      <td>-0.687721</td>\n",
       "      <td>0.0</td>\n",
       "      <td>0.0</td>\n",
       "      <td>...</td>\n",
       "      <td>1.0</td>\n",
       "      <td>0.0</td>\n",
       "      <td>1.0</td>\n",
       "      <td>0.0</td>\n",
       "      <td>0.0</td>\n",
       "      <td>1.0</td>\n",
       "      <td>0.0</td>\n",
       "      <td>0.0</td>\n",
       "      <td>0.0</td>\n",
       "      <td>0.0</td>\n",
       "    </tr>\n",
       "    <tr>\n",
       "      <th>3</th>\n",
       "      <td>0.762</td>\n",
       "      <td>1.0</td>\n",
       "      <td>2.0</td>\n",
       "      <td>5.0</td>\n",
       "      <td>13.0</td>\n",
       "      <td>-0.572258</td>\n",
       "      <td>5.0</td>\n",
       "      <td>-0.786616</td>\n",
       "      <td>1.0</td>\n",
       "      <td>0.0</td>\n",
       "      <td>...</td>\n",
       "      <td>1.0</td>\n",
       "      <td>0.0</td>\n",
       "      <td>1.0</td>\n",
       "      <td>0.0</td>\n",
       "      <td>0.0</td>\n",
       "      <td>0.0</td>\n",
       "      <td>0.0</td>\n",
       "      <td>0.0</td>\n",
       "      <td>0.0</td>\n",
       "      <td>1.0</td>\n",
       "    </tr>\n",
       "    <tr>\n",
       "      <th>4</th>\n",
       "      <td>0.920</td>\n",
       "      <td>1.0</td>\n",
       "      <td>2.0</td>\n",
       "      <td>5.0</td>\n",
       "      <td>7.0</td>\n",
       "      <td>-0.559195</td>\n",
       "      <td>1.0</td>\n",
       "      <td>-0.325103</td>\n",
       "      <td>1.0</td>\n",
       "      <td>0.0</td>\n",
       "      <td>...</td>\n",
       "      <td>1.0</td>\n",
       "      <td>0.0</td>\n",
       "      <td>1.0</td>\n",
       "      <td>0.0</td>\n",
       "      <td>0.0</td>\n",
       "      <td>0.0</td>\n",
       "      <td>0.0</td>\n",
       "      <td>0.0</td>\n",
       "      <td>0.0</td>\n",
       "      <td>1.0</td>\n",
       "    </tr>\n",
       "    <tr>\n",
       "      <th>...</th>\n",
       "      <td>...</td>\n",
       "      <td>...</td>\n",
       "      <td>...</td>\n",
       "      <td>...</td>\n",
       "      <td>...</td>\n",
       "      <td>...</td>\n",
       "      <td>...</td>\n",
       "      <td>...</td>\n",
       "      <td>...</td>\n",
       "      <td>...</td>\n",
       "      <td>...</td>\n",
       "      <td>...</td>\n",
       "      <td>...</td>\n",
       "      <td>...</td>\n",
       "      <td>...</td>\n",
       "      <td>...</td>\n",
       "      <td>...</td>\n",
       "      <td>...</td>\n",
       "      <td>...</td>\n",
       "      <td>...</td>\n",
       "      <td>...</td>\n",
       "    </tr>\n",
       "    <tr>\n",
       "      <th>12699</th>\n",
       "      <td>0.920</td>\n",
       "      <td>1.0</td>\n",
       "      <td>3.0</td>\n",
       "      <td>5.0</td>\n",
       "      <td>9.0</td>\n",
       "      <td>-0.559195</td>\n",
       "      <td>1.0</td>\n",
       "      <td>-0.489929</td>\n",
       "      <td>1.0</td>\n",
       "      <td>0.0</td>\n",
       "      <td>...</td>\n",
       "      <td>1.0</td>\n",
       "      <td>0.0</td>\n",
       "      <td>1.0</td>\n",
       "      <td>0.0</td>\n",
       "      <td>0.0</td>\n",
       "      <td>0.0</td>\n",
       "      <td>0.0</td>\n",
       "      <td>0.0</td>\n",
       "      <td>0.0</td>\n",
       "      <td>1.0</td>\n",
       "    </tr>\n",
       "    <tr>\n",
       "      <th>12700</th>\n",
       "      <td>0.920</td>\n",
       "      <td>1.0</td>\n",
       "      <td>2.0</td>\n",
       "      <td>5.0</td>\n",
       "      <td>10.0</td>\n",
       "      <td>-0.517206</td>\n",
       "      <td>3.0</td>\n",
       "      <td>-0.704203</td>\n",
       "      <td>0.0</td>\n",
       "      <td>0.0</td>\n",
       "      <td>...</td>\n",
       "      <td>1.0</td>\n",
       "      <td>1.0</td>\n",
       "      <td>0.0</td>\n",
       "      <td>0.0</td>\n",
       "      <td>0.0</td>\n",
       "      <td>0.0</td>\n",
       "      <td>0.0</td>\n",
       "      <td>0.0</td>\n",
       "      <td>1.0</td>\n",
       "      <td>0.0</td>\n",
       "    </tr>\n",
       "    <tr>\n",
       "      <th>12701</th>\n",
       "      <td>0.920</td>\n",
       "      <td>1.0</td>\n",
       "      <td>2.0</td>\n",
       "      <td>3.0</td>\n",
       "      <td>7.0</td>\n",
       "      <td>-0.567592</td>\n",
       "      <td>1.0</td>\n",
       "      <td>-0.671238</td>\n",
       "      <td>0.0</td>\n",
       "      <td>0.0</td>\n",
       "      <td>...</td>\n",
       "      <td>1.0</td>\n",
       "      <td>1.0</td>\n",
       "      <td>0.0</td>\n",
       "      <td>0.0</td>\n",
       "      <td>0.0</td>\n",
       "      <td>1.0</td>\n",
       "      <td>0.0</td>\n",
       "      <td>0.0</td>\n",
       "      <td>0.0</td>\n",
       "      <td>0.0</td>\n",
       "    </tr>\n",
       "    <tr>\n",
       "      <th>12702</th>\n",
       "      <td>0.920</td>\n",
       "      <td>1.0</td>\n",
       "      <td>2.0</td>\n",
       "      <td>5.0</td>\n",
       "      <td>21.0</td>\n",
       "      <td>-0.559195</td>\n",
       "      <td>4.0</td>\n",
       "      <td>-0.358068</td>\n",
       "      <td>0.0</td>\n",
       "      <td>0.0</td>\n",
       "      <td>...</td>\n",
       "      <td>1.0</td>\n",
       "      <td>0.0</td>\n",
       "      <td>1.0</td>\n",
       "      <td>0.0</td>\n",
       "      <td>0.0</td>\n",
       "      <td>0.0</td>\n",
       "      <td>0.0</td>\n",
       "      <td>0.0</td>\n",
       "      <td>0.0</td>\n",
       "      <td>1.0</td>\n",
       "    </tr>\n",
       "    <tr>\n",
       "      <th>12703</th>\n",
       "      <td>0.802</td>\n",
       "      <td>1.0</td>\n",
       "      <td>1.0</td>\n",
       "      <td>0.0</td>\n",
       "      <td>0.0</td>\n",
       "      <td>-0.433229</td>\n",
       "      <td>2.0</td>\n",
       "      <td>0.515512</td>\n",
       "      <td>0.0</td>\n",
       "      <td>0.0</td>\n",
       "      <td>...</td>\n",
       "      <td>1.0</td>\n",
       "      <td>0.0</td>\n",
       "      <td>1.0</td>\n",
       "      <td>0.0</td>\n",
       "      <td>0.0</td>\n",
       "      <td>0.0</td>\n",
       "      <td>0.0</td>\n",
       "      <td>0.0</td>\n",
       "      <td>0.0</td>\n",
       "      <td>1.0</td>\n",
       "    </tr>\n",
       "  </tbody>\n",
       "</table>\n",
       "<p>12704 rows × 21 columns</p>\n",
       "</div>"
      ],
      "text/plain": [
       "       city_development_index  relevent_experience  education_level  \\\n",
       "0                       0.776                  0.0              2.0   \n",
       "1                       0.767                  1.0              3.0   \n",
       "2                       0.920                  1.0              1.0   \n",
       "3                       0.762                  1.0              2.0   \n",
       "4                       0.920                  1.0              2.0   \n",
       "...                       ...                  ...              ...   \n",
       "12699                   0.920                  1.0              3.0   \n",
       "12700                   0.920                  1.0              2.0   \n",
       "12701                   0.920                  1.0              2.0   \n",
       "12702                   0.920                  1.0              2.0   \n",
       "12703                   0.802                  1.0              1.0   \n",
       "\n",
       "       major_discipline  experience  company_size  last_new_job  \\\n",
       "0                   5.0        15.0     -0.559195           5.0   \n",
       "1                   5.0        21.0     -0.559195           4.0   \n",
       "2                   0.0         5.0     -0.559195           1.0   \n",
       "3                   5.0        13.0     -0.572258           5.0   \n",
       "4                   5.0         7.0     -0.559195           1.0   \n",
       "...                 ...         ...           ...           ...   \n",
       "12699               5.0         9.0     -0.559195           1.0   \n",
       "12700               5.0        10.0     -0.517206           3.0   \n",
       "12701               3.0         7.0     -0.567592           1.0   \n",
       "12702               5.0        21.0     -0.559195           4.0   \n",
       "12703               0.0         0.0     -0.433229           2.0   \n",
       "\n",
       "       training_hours  target  enrolled_university_Full time course  ...  \\\n",
       "0           -0.308620     0.0                                   0.0  ...   \n",
       "1           -0.951443     0.0                                   0.0  ...   \n",
       "2           -0.687721     0.0                                   0.0  ...   \n",
       "3           -0.786616     1.0                                   0.0  ...   \n",
       "4           -0.325103     1.0                                   0.0  ...   \n",
       "...               ...     ...                                   ...  ...   \n",
       "12699       -0.489929     1.0                                   0.0  ...   \n",
       "12700       -0.704203     0.0                                   0.0  ...   \n",
       "12701       -0.671238     0.0                                   0.0  ...   \n",
       "12702       -0.358068     0.0                                   0.0  ...   \n",
       "12703        0.515512     0.0                                   0.0  ...   \n",
       "\n",
       "       enrolled_university_no_enrollment  gender_Female  gender_Male  \\\n",
       "0                                    1.0            0.0          1.0   \n",
       "1                                    1.0            0.0          1.0   \n",
       "2                                    1.0            0.0          1.0   \n",
       "3                                    1.0            0.0          1.0   \n",
       "4                                    1.0            0.0          1.0   \n",
       "...                                  ...            ...          ...   \n",
       "12699                                1.0            0.0          1.0   \n",
       "12700                                1.0            1.0          0.0   \n",
       "12701                                1.0            1.0          0.0   \n",
       "12702                                1.0            0.0          1.0   \n",
       "12703                                1.0            0.0          1.0   \n",
       "\n",
       "       gender_Other  company_type_Early Stage Startup  \\\n",
       "0               0.0                               0.0   \n",
       "1               0.0                               0.0   \n",
       "2               0.0                               0.0   \n",
       "3               0.0                               0.0   \n",
       "4               0.0                               0.0   \n",
       "...             ...                               ...   \n",
       "12699           0.0                               0.0   \n",
       "12700           0.0                               0.0   \n",
       "12701           0.0                               0.0   \n",
       "12702           0.0                               0.0   \n",
       "12703           0.0                               0.0   \n",
       "\n",
       "       company_type_Funded Startup  company_type_NGO  company_type_Other  \\\n",
       "0                              0.0               0.0                 0.0   \n",
       "1                              1.0               0.0                 0.0   \n",
       "2                              1.0               0.0                 0.0   \n",
       "3                              0.0               0.0                 0.0   \n",
       "4                              0.0               0.0                 0.0   \n",
       "...                            ...               ...                 ...   \n",
       "12699                          0.0               0.0                 0.0   \n",
       "12700                          0.0               0.0                 0.0   \n",
       "12701                          1.0               0.0                 0.0   \n",
       "12702                          0.0               0.0                 0.0   \n",
       "12703                          0.0               0.0                 0.0   \n",
       "\n",
       "       company_type_Public Sector  company_type_Pvt Ltd  \n",
       "0                             0.0                   1.0  \n",
       "1                             0.0                   0.0  \n",
       "2                             0.0                   0.0  \n",
       "3                             0.0                   1.0  \n",
       "4                             0.0                   1.0  \n",
       "...                           ...                   ...  \n",
       "12699                         0.0                   1.0  \n",
       "12700                         1.0                   0.0  \n",
       "12701                         0.0                   0.0  \n",
       "12702                         0.0                   1.0  \n",
       "12703                         0.0                   1.0  \n",
       "\n",
       "[12704 rows x 21 columns]"
      ]
     },
     "execution_count": 28,
     "metadata": {},
     "output_type": "execute_result"
    }
   ],
   "source": [
    "new_df"
   ]
  },
  {
   "cell_type": "code",
   "execution_count": 29,
   "id": "5de1cf91",
   "metadata": {},
   "outputs": [
    {
     "data": {
      "text/plain": [
       "<AxesSubplot:>"
      ]
     },
     "execution_count": 29,
     "metadata": {},
     "output_type": "execute_result"
    },
    {
     "data": {
      "image/png": "[encoded data removed]",
      "text/plain": [
       "<Figure size 1080x1080 with 2 Axes>"
      ]
     },
     "metadata": {
      "needs_background": "light"
     },
     "output_type": "display_data"
    }
   ],
   "source": [
    "correlation_matrix=new_df.corr().round(2)\n",
    "fig, ax = plt.subplots(figsize=(15,15))\n",
    "sn.heatmap(data=correlation_matrix, annot=True, ax=ax)\n"
   ]
  },
  {
   "cell_type": "code",
   "execution_count": 30,
   "id": "afb8e5ef",
   "metadata": {},
   "outputs": [],
   "source": [
    "from sklearn.model_selection import train_test_split\n",
    "from sklearn.metrics import accuracy_score,precision_score,recall_score,f1_score,cohen_kappa_score\n",
    "import time"
   ]
  },
  {
   "cell_type": "code",
   "execution_count": 31,
   "id": "9f8ca612",
   "metadata": {},
   "outputs": [
    {
     "data": {
      "text/plain": [
       "city_development_index                  0\n",
       "relevent_experience                     0\n",
       "education_level                         0\n",
       "major_discipline                        0\n",
       "experience                              0\n",
       "company_size                            0\n",
       "last_new_job                            0\n",
       "training_hours                          0\n",
       "target                                  0\n",
       "enrolled_university_Full time course    0\n",
       "enrolled_university_Part time course    0\n",
       "enrolled_university_no_enrollment       0\n",
       "gender_Female                           0\n",
       "gender_Male                             0\n",
       "gender_Other                            0\n",
       "company_type_Early Stage Startup        0\n",
       "company_type_Funded Startup             0\n",
       "company_type_NGO                        0\n",
       "company_type_Other                      0\n",
       "company_type_Public Sector              0\n",
       "company_type_Pvt Ltd                    0\n",
       "dtype: int64"
      ]
     },
     "execution_count": 31,
     "metadata": {},
     "output_type": "execute_result"
    }
   ],
   "source": [
    "new_df.isnull().sum()"
   ]
  },
  {
   "cell_type": "code",
   "execution_count": 32,
   "id": "c20bd0b3",
   "metadata": {},
   "outputs": [],
   "source": [
    "val_df=new_df.loc[1:100]\n",
    "\n",
    "x1=val_df.drop('target',axis=1)\n",
    "y1=val_df['target']"
   ]
  },
  {
   "cell_type": "code",
   "execution_count": 33,
   "id": "9e1091f6",
   "metadata": {},
   "outputs": [
    {
     "name": "stdout",
     "output_type": "stream",
     "text": [
      "Best hyperparameters: {'C': 0.05, 'degree': 1, 'gamma': 0.001, 'kernel': 'linear'}\n"
     ]
    }
   ],
   "source": [
    "from sklearn.model_selection import GridSearchCV\n",
    "from sklearn.svm import SVC\n",
    "X_val, X_val_test, y_val, y_val_test = train_test_split(x1, y1, test_size=0.2, random_state=42)\n",
    "\n",
    "param_grid = {'C': [0.05,0.1, 1, 10], 'kernel': ['linear', 'rbf', 'poly'], 'gamma': [0.001,0.1, 1, 10], 'degree': [1,2, 3, 4]}\n",
    "svc = SVC()\n",
    "grid_search = GridSearchCV(estimator=svc, param_grid=param_grid, cv=5)\n",
    "grid_search.fit(X_val, y_val)\n",
    "\n",
    "print('Best hyperparameters:', grid_search.best_params_)"
   ]
  },
  {
   "cell_type": "code",
   "execution_count": 34,
   "id": "8b8c22d1",
   "metadata": {},
   "outputs": [],
   "source": [
    "final_df=new_df.loc[101:]\n",
    "X=final_df.drop('target',axis=1)\n",
    "y=final_df['target']\n",
    "X_train, X_test, y_train, y_test=train_test_split(X,y, test_size=0.3,random_state=42)"
   ]
  },
  {
   "cell_type": "markdown",
   "id": "df2bc7d6",
   "metadata": {},
   "source": [
    "SVM Implementation"
   ]
  },
  {
   "cell_type": "code",
   "execution_count": 59,
   "id": "53fee333",
   "metadata": {},
   "outputs": [
    {
     "name": "stdout",
     "output_type": "stream",
     "text": [
      "SVM with linear kernel\n",
      "1.9342482089996338 seconds\n",
      "Accuracy= 0.8230626818302037\n",
      "Precision= 1.0\n",
      "Recall= 0.0\n",
      "F1 score= 0.0\n",
      "Cohen kappa score= 0.0\n"
     ]
    }
   ],
   "source": [
    "from sklearn import svm\n",
    "start = time.time()\n",
    "svm_clf = svm.SVC(kernel='linear',degree=1,gamma=0.001,C=0.05)\n",
    "svm_clf.fit(X_train,y_train)\n",
    "y_pred=svm_clf.predict(X_test)\n",
    "end = time.time()\n",
    "print(\"SVM with linear kernel\")\n",
    "print(end - start, \"seconds\")\n",
    "print(\"Accuracy=\",accuracy_score(y_test,y_pred))\n",
    "print(\"Precision=\",precision_score(y_test,y_pred,zero_division=1))\n",
    "print(\"Recall=\",recall_score(y_test,y_pred))\n",
    "print(\"F1 score=\",f1_score(y_test,y_pred))\n",
    "print(\"Cohen kappa score=\",cohen_kappa_score(y_test,y_pred))"
   ]
  },
  {
   "cell_type": "code",
   "execution_count": 60,
   "id": "6d5f4ec1",
   "metadata": {},
   "outputs": [
    {
     "name": "stdout",
     "output_type": "stream",
     "text": [
      "SVM with polynomial kernel\n",
      "1.6024491786956787 seconds\n",
      "Accuracy= 0.8230626818302037\n",
      "Precision= 1.0\n",
      "Recall= 0.0\n",
      "F1 score= 0.0\n",
      "Cohen kappa score= 0.0\n"
     ]
    }
   ],
   "source": [
    "start=time.time()\n",
    "svm_clf=svm.SVC(kernel='poly', degree=1, gamma=0.01, C=0.05)\n",
    "svm_clf.fit(X_train,y_train)\n",
    "y_pred=svm_clf.predict(X_test)\n",
    "end=time.time()\n",
    "print(\"SVM with polynomial kernel\")\n",
    "print(end - start, \"seconds\")\n",
    "print(\"Accuracy=\",accuracy_score(y_test,y_pred))\n",
    "print(\"Precision=\",precision_score(y_test,y_pred,zero_division=1))\n",
    "print(\"Recall=\",recall_score(y_test,y_pred))\n",
    "print(\"F1 score=\",f1_score(y_test,y_pred))\n",
    "print(\"Cohen kappa score=\",cohen_kappa_score(y_test,y_pred))"
   ]
  },
  {
   "cell_type": "code",
   "execution_count": 61,
   "id": "4652173d",
   "metadata": {},
   "outputs": [
    {
     "name": "stdout",
     "output_type": "stream",
     "text": [
      "SVM with sigmoid kernel\n",
      "2.2428011894226074 seconds\n",
      "Accuracy= 0.7386934673366834\n",
      "Precision= 0.2115732368896926\n",
      "Recall= 0.17488789237668162\n",
      "F1 score= 0.1914893617021277\n",
      "Cohen kappa score= 0.03732539477197083\n"
     ]
    }
   ],
   "source": [
    "start = time.time()\n",
    "svm_clf=svm.SVC(kernel='sigmoid')\n",
    "svm_clf.fit(X_train,y_train)\n",
    "y_pred=svm_clf.predict(X_test)\n",
    "end = time.time()\n",
    "print(\"SVM with sigmoid kernel\")\n",
    "print(end - start, \"seconds\")\n",
    "accuracy1=accuracy_score(y_test,y_pred)\n",
    "print(\"Accuracy=\",accuracy1)\n",
    "precision1=precision_score(y_test,y_pred,zero_division=1)\n",
    "print(\"Precision=\",precision1)\n",
    "recall1=recall_score(y_test,y_pred)\n",
    "print(\"Recall=\",recall1)\n",
    "f1_1=f1_score(y_test,y_pred)\n",
    "print(\"F1 score=\",f1_1)\n",
    "cohen_kappa1=cohen_kappa_score(y_test,y_pred)\n",
    "print(\"Cohen kappa score=\",cohen_kappa1)"
   ]
  },
  {
   "cell_type": "code",
   "execution_count": 62,
   "id": "c420564c",
   "metadata": {},
   "outputs": [
    {
     "name": "stdout",
     "output_type": "stream",
     "text": [
      "SVM with rbf kernel\n",
      "4.9182868003845215 seconds\n",
      "Accuracy= 0.8230626818302037\n",
      "Precision= 1.0\n",
      "Recall= 0.0\n",
      "F1 score= 0.0\n",
      "Cohen kappa score= 0.0\n"
     ]
    }
   ],
   "source": [
    "start=time.time()\n",
    "svm_clf=svm.SVC(kernel='rbf')\n",
    "svm_clf.fit(X_train,y_train)\n",
    "y_pred=svm_clf.predict(X_test)\n",
    "end=time.time()\n",
    "print(\"SVM with rbf kernel\")\n",
    "print(end - start, \"seconds\")\n",
    "accuracy=accuracy_score(y_test,y_pred)\n",
    "print(\"Accuracy=\",accuracy)\n",
    "precision=precision_score(y_test,y_pred,zero_division=1)\n",
    "print(\"Precision=\",precision)\n",
    "recall=recall_score(y_test,y_pred)\n",
    "print(\"Recall=\",recall)\n",
    "f1=f1_score(y_test,y_pred)\n",
    "print(\"F1 score=\",f1)\n",
    "cohen_kappa=cohen_kappa_score(y_test,y_pred)\n",
    "print(\"Cohen kappa score=\",cohen_kappa)"
   ]
  },
  {
   "cell_type": "markdown",
   "id": "178e775d",
   "metadata": {},
   "source": [
    "KNN Implementation"
   ]
  },
  {
   "cell_type": "code",
   "execution_count": 63,
   "id": "a6c372bc",
   "metadata": {},
   "outputs": [
    {
     "name": "stdout",
     "output_type": "stream",
     "text": [
      "KNN with 100 neighbors\n",
      "1.2793467044830322 seconds\n",
      "Accuracy= 0.8225337212377678\n",
      "Precision= 0.375\n",
      "Recall= 0.004484304932735426\n",
      "F1 score= 0.008862629246676515\n",
      "Cohen kappa score= 0.004700606072969737\n"
     ]
    }
   ],
   "source": [
    "from sklearn.neighbors import KNeighborsClassifier\n",
    "start=time.time()\n",
    "knn=KNeighborsClassifier(n_neighbors=100)\n",
    "knn.fit(X_train,y_train)\n",
    "y_pred=knn.predict(X_test)\n",
    "end=time.time()\n",
    "print(\"KNN with 100 neighbors\") #change the value of n_nrighbors for different results\n",
    "print(end - start, \"seconds\")\n",
    "accuracy=accuracy_score(y_test,y_pred)\n",
    "print(\"Accuracy=\",accuracy)\n",
    "precision=precision_score(y_test,y_pred,zero_division=1)\n",
    "print(\"Precision=\",precision)\n",
    "recall=recall_score(y_test,y_pred)\n",
    "print(\"Recall=\",recall)\n",
    "f1=f1_score(y_test,y_pred)\n",
    "print(\"F1 score=\",f1)\n",
    "cohen_kappa=cohen_kappa_score(y_test,y_pred)\n",
    "print(\"Cohen kappa score=\",cohen_kappa)"
   ]
  },
  {
   "cell_type": "code",
   "execution_count": 64,
   "id": "6d4c8bda",
   "metadata": {},
   "outputs": [
    {
     "name": "stdout",
     "output_type": "stream",
     "text": [
      "Fitting 10 folds for each of 83 candidates, totalling 830 fits\n",
      "{'n_neighbors': 8}\n"
     ]
    }
   ],
   "source": [
    "#knn hyperparameter tuning using grid search\n",
    "k_range = list(range(8, 91))\n",
    "param_grid = dict(n_neighbors=k_range)\n",
    "grid = GridSearchCV(knn, param_grid, cv=10, scoring='accuracy', return_train_score=False,verbose=1)\n",
    "grid_search=grid.fit(x1, y1)\n",
    "print(grid_search.best_params_)\n"
   ]
  },
  {
   "cell_type": "code",
   "execution_count": 65,
   "id": "c08d443c",
   "metadata": {},
   "outputs": [
    {
     "name": "stdout",
     "output_type": "stream",
     "text": [
      "KNN with k=8\n",
      "1.1527717113494873 seconds\n",
      "Accuracy= 0.8225337212377678\n",
      "Precision= 0.4875\n",
      "Recall= 0.05829596412556054\n",
      "F1 score= 0.1041388518024032\n",
      "Cohen kappa score= 0.06894785148530491\n"
     ]
    }
   ],
   "source": [
    "#knn using the obtained value of k after grid search\n",
    "start=time.time()\n",
    "knn=KNeighborsClassifier(n_neighbors=8)\n",
    "knn.fit(X_train,y_train)\n",
    "y_pred=knn.predict(X_test)\n",
    "end=time.time()\n",
    "print(\"KNN with k=8\")\n",
    "print(end - start, \"seconds\")\n",
    "accuracy2=accuracy_score(y_test,y_pred)\n",
    "print(\"Accuracy=\",accuracy2)\n",
    "precision2=precision_score(y_test,y_pred,zero_division=1)\n",
    "print(\"Precision=\",precision2)\n",
    "recall2=recall_score(y_test,y_pred)\n",
    "print(\"Recall=\",recall2)\n",
    "f1_2=f1_score(y_test,y_pred)\n",
    "print(\"F1 score=\",f1_2)\n",
    "cohen_kappa2=cohen_kappa_score(y_test,y_pred)\n",
    "print(\"Cohen kappa score=\",cohen_kappa2)"
   ]
  },
  {
   "cell_type": "markdown",
   "id": "3b7fbcda",
   "metadata": {},
   "source": [
    "Decision Tree implementation"
   ]
  },
  {
   "cell_type": "code",
   "execution_count": 66,
   "id": "12a53e8b",
   "metadata": {},
   "outputs": [
    {
     "name": "stdout",
     "output_type": "stream",
     "text": [
      "Decision tree with max depth=12\n",
      "0.035063743591308594 seconds\n",
      "Accuracy= 0.8156572335361015\n",
      "Precision= 0.47619047619047616\n",
      "Recall= 0.41853512705530643\n",
      "F1 score= 0.4455051710421638\n",
      "Cohen kappa score= 0.3355080833883639\n"
     ]
    }
   ],
   "source": [
    "from sklearn.tree import DecisionTreeClassifier\n",
    "start=time.time()\n",
    "dt=DecisionTreeClassifier(max_depth=12,random_state=42)\n",
    "dt.fit(X_train,y_train)\n",
    "y_pred=dt.predict(X_test)\n",
    "end=time.time()\n",
    "print(\"Decision tree with max depth=12\") #change the value of max_depth for testing different depths\n",
    "print(end - start, \"seconds\")\n",
    "accuracy=accuracy_score(y_test,y_pred)\n",
    "print(\"Accuracy=\",accuracy)\n",
    "precision=precision_score(y_test,y_pred,zero_division=1)\n",
    "print(\"Precision=\",precision)\n",
    "recall=recall_score(y_test,y_pred)\n",
    "print(\"Recall=\",recall)\n",
    "f1=f1_score(y_test,y_pred)\n",
    "print(\"F1 score=\",f1)\n",
    "cohen_kappa=cohen_kappa_score(y_test,y_pred)\n",
    "print(\"Cohen kappa score=\",cohen_kappa)"
   ]
  },
  {
   "cell_type": "code",
   "execution_count": 67,
   "id": "743db21c",
   "metadata": {},
   "outputs": [
    {
     "name": "stdout",
     "output_type": "stream",
     "text": [
      "Best Criterion: gini\n",
      "Best max_depth: 2\n",
      "\n",
      "DecisionTreeClassifier(max_depth=2)\n"
     ]
    }
   ],
   "source": [
    "#decision tree hyperparameter tunung using grid search\n",
    "from sklearn.pipeline import Pipeline\n",
    "from sklearn import decomposition\n",
    "criterion = ['gini', 'entropy']\n",
    "max_depth = [2,4,6,8,10,12]\n",
    "dt=DecisionTreeClassifier()\n",
    "pca = decomposition.PCA()\n",
    "pipe = Pipeline(steps=[('std_slc', scaler),\n",
    "                           ('pca', pca),\n",
    "                           ('dec_tree', dt)])\n",
    "parameters = dict(dec_tree__criterion=criterion,dec_tree__max_depth=max_depth)\n",
    "grid=GridSearchCV(pipe,parameters)\n",
    "grid.fit(x1,y1)\n",
    "print('Best Criterion:', grid.best_estimator_.get_params()['dec_tree__criterion'])\n",
    "print('Best max_depth:', grid.best_estimator_.get_params()['dec_tree__max_depth'])\n",
    "print(); print(grid.best_estimator_.get_params()['dec_tree'])"
   ]
  },
  {
   "cell_type": "code",
   "execution_count": 68,
   "id": "e251508e",
   "metadata": {},
   "outputs": [
    {
     "name": "stdout",
     "output_type": "stream",
     "text": [
      "Decision tree with max depth=8\n",
      "0.018520355224609375 seconds\n",
      "Accuracy= 0.8555937582650093\n",
      "Precision= 0.6054888507718696\n",
      "Recall= 0.5276532137518685\n",
      "F1 score= 0.5638977635782747\n",
      "Cohen kappa score= 0.4778572689577866\n"
     ]
    }
   ],
   "source": [
    "#decision tree using best max depth\n",
    "start=time.time()\n",
    "dt=DecisionTreeClassifier(max_depth=4,random_state=42,criterion='gini')\n",
    "dt.fit(X_train,y_train)\n",
    "y_pred=dt.predict(X_test)\n",
    "end=time.time()\n",
    "print(\"Decision tree with max depth=8\")\n",
    "print(end - start, \"seconds\")\n",
    "accuracy3=accuracy_score(y_test,y_pred)\n",
    "print(\"Accuracy=\",accuracy3)\n",
    "precision3=precision_score(y_test,y_pred,zero_division=1)\n",
    "print(\"Precision=\",precision3)\n",
    "recall3=recall_score(y_test,y_pred)\n",
    "print(\"Recall=\",recall3)\n",
    "f1_3=f1_score(y_test,y_pred)\n",
    "print(\"F1 score=\",f1_3)\n",
    "cohen_kappa3=cohen_kappa_score(y_test,y_pred)\n",
    "print(\"Cohen kappa score=\",cohen_kappa3)"
   ]
  },
  {
   "cell_type": "markdown",
   "id": "39f2166c",
   "metadata": {},
   "source": [
    "Logistic Regression Implementation"
   ]
  },
  {
   "cell_type": "code",
   "execution_count": 69,
   "id": "1d5677d9",
   "metadata": {},
   "outputs": [
    {
     "name": "stdout",
     "output_type": "stream",
     "text": [
      "Logistic Regression with l2 and c=5\n",
      "0.060251712799072266 seconds\n",
      "Accuracy= 0.8360222163448823\n",
      "Precision= 0.5853658536585366\n",
      "Recall= 0.25112107623318386\n",
      "F1 score= 0.35146443514644354\n",
      "Cohen kappa score= 0.27437682433457244\n"
     ]
    }
   ],
   "source": [
    "from sklearn.linear_model import LogisticRegression\n",
    "start=time.time()\n",
    "lr=LogisticRegression(solver='liblinear', penalty='l2',C=5)\n",
    "lr.fit(X_train,y_train)\n",
    "y_pred=lr.predict(X_test)\n",
    "end=time.time()\n",
    "print(\"Logistic Regression with l2 and c=5\")\n",
    "print(end - start, \"seconds\")\n",
    "accuracy=accuracy_score(y_test,y_pred)\n",
    "print(\"Accuracy=\",accuracy)\n",
    "precision=precision_score(y_test,y_pred,zero_division=1)\n",
    "print(\"Precision=\",precision)\n",
    "recall=recall_score(y_test,y_pred)\n",
    "print(\"Recall=\",recall)\n",
    "f1=f1_score(y_test,y_pred)\n",
    "print(\"F1 score=\",f1)\n",
    "cohen_kappa=cohen_kappa_score(y_test,y_pred)\n",
    "print(\"Cohen kappa score=\",cohen_kappa)"
   ]
  },
  {
   "cell_type": "code",
   "execution_count": 70,
   "id": "4bb91631",
   "metadata": {},
   "outputs": [
    {
     "name": "stdout",
     "output_type": "stream",
     "text": [
      "Best Penalty: l1\n",
      "Best C: 1.0\n",
      "\n",
      "LogisticRegression(penalty='l1', solver='liblinear')\n"
     ]
    }
   ],
   "source": [
    "#LR hyperparameter tuning using grid search\n",
    "C = np.logspace(0,10)\n",
    "penalty = ['l1', 'l2']\n",
    "pipe = Pipeline(steps=[('std_slc', scaler),('pca', pca),('logistic_Reg', lr)])\n",
    "parameters = dict(logistic_Reg__C=C,logistic_Reg__penalty=penalty)\n",
    "grid=GridSearchCV(pipe,parameters)\n",
    "grid.fit(x1,y1)\n",
    "print('Best Penalty:', grid.best_estimator_.get_params()['logistic_Reg__penalty'])\n",
    "print('Best C:', grid.best_estimator_.get_params()['logistic_Reg__C'])\n",
    "print(); print(grid.best_estimator_.get_params()['logistic_Reg'])"
   ]
  },
  {
   "cell_type": "code",
   "execution_count": 71,
   "id": "8f892016",
   "metadata": {},
   "outputs": [
    {
     "name": "stdout",
     "output_type": "stream",
     "text": [
      "Logistic regression with l1 and c=20\n",
      "0.1929934024810791 seconds\n",
      "Accuracy= 0.8357577360486643\n",
      "Precision= 0.5827586206896552\n",
      "Recall= 0.2526158445440957\n",
      "F1 score= 0.3524504692387904\n",
      "Cohen kappa score= 0.27485153456235867\n"
     ]
    }
   ],
   "source": [
    "start=time.time()\n",
    "lr=LogisticRegression(solver='liblinear',penalty='l1',C=20)\n",
    "lr.fit(X_train,y_train)\n",
    "y_pred=lr.predict(X_test)\n",
    "end=time.time()\n",
    "print(\"Logistic regression with l1 and c=20\")\n",
    "print(end - start, \"seconds\")\n",
    "accuracy4=accuracy_score(y_test,y_pred)\n",
    "print(\"Accuracy=\",accuracy4)\n",
    "precision4=precision_score(y_test,y_pred,zero_division=1)\n",
    "print(\"Precision=\",precision4)\n",
    "recall4=recall_score(y_test,y_pred)\n",
    "print(\"Recall=\",recall4)\n",
    "f1_4=f1_score(y_test,y_pred)\n",
    "print(\"F1 score=\",f1_4)\n",
    "cohen_kappa4=cohen_kappa_score(y_test,y_pred)\n",
    "print(\"Cohen kappa score=\",cohen_kappa4)"
   ]
  },
  {
   "cell_type": "markdown",
   "id": "98084e9f",
   "metadata": {},
   "source": [
    "Naive Bayes Implementation"
   ]
  },
  {
   "cell_type": "code",
   "execution_count": 72,
   "id": "005dbbd1",
   "metadata": {},
   "outputs": [
    {
     "name": "stdout",
     "output_type": "stream",
     "text": [
      "Gaussian Naive Bayes\n",
      "0.012548446655273438 seconds\n",
      "Accuracy= 0.7974080930970643\n",
      "Precision= 0.4423305588585018\n",
      "Recall= 0.5560538116591929\n",
      "F1 score= 0.4927152317880795\n",
      "Cohen kappa score= 0.3681908494929813\n"
     ]
    }
   ],
   "source": [
    "from sklearn.naive_bayes import GaussianNB\n",
    "start=time.time()\n",
    "nbc=GaussianNB()\n",
    "nbc.fit(X_train,y_train)\n",
    "y_pred=nbc.predict(X_test)\n",
    "end=time.time()\n",
    "print(\"Gaussian Naive Bayes\")\n",
    "print(end - start, \"seconds\")\n",
    "accuracy=accuracy_score(y_test,y_pred)\n",
    "print(\"Accuracy=\",accuracy)\n",
    "precision=precision_score(y_test,y_pred,zero_division=1)\n",
    "print(\"Precision=\",precision)\n",
    "recall=recall_score(y_test,y_pred)\n",
    "print(\"Recall=\",recall)\n",
    "f1=f1_score(y_test,y_pred)\n",
    "print(\"F1 score=\",f1)\n",
    "cohen_kappa=cohen_kappa_score(y_test,y_pred)\n",
    "print(\"Cohen kappa score=\",cohen_kappa)"
   ]
  },
  {
   "cell_type": "code",
   "execution_count": 49,
   "id": "589e438e",
   "metadata": {},
   "outputs": [
    {
     "name": "stdout",
     "output_type": "stream",
     "text": [
      "Best hyperparameters:  {'var_smoothing': 1e-06}\n"
     ]
    }
   ],
   "source": [
    "#hyperparam tuning using grid search\n",
    "param_grid = {'var_smoothing': [1e-9, 1e-8, 1e-7, 1e-6, 1e-5]}\n",
    "grid= GridSearchCV(nbc, param_grid, cv=5, scoring='accuracy')\n",
    "grid.fit(x1,y1)\n",
    "print(\"Best hyperparameters: \", grid.best_params_)"
   ]
  },
  {
   "cell_type": "code",
   "execution_count": 73,
   "id": "38a38049",
   "metadata": {},
   "outputs": [
    {
     "name": "stdout",
     "output_type": "stream",
     "text": [
      "Gaussian Naive bayes with teh best hyperparam\n",
      "0.009029388427734375 seconds\n",
      "Accuracy= 0.7968791325046284\n",
      "Precision= 0.4410011918951132\n",
      "Recall= 0.5530642750373692\n",
      "F1 score= 0.4907161803713528\n",
      "Cohen kappa score= 0.3658653125918563\n"
     ]
    }
   ],
   "source": [
    "start=time.time()\n",
    "nbc=GaussianNB(var_smoothing=1e-6)\n",
    "nbc.fit(X_train,y_train)\n",
    "y_pred=nbc.predict(X_test)\n",
    "end=time.time()\n",
    "print(\"Gaussian Naive bayes with teh best hyperparam\")\n",
    "print(end - start, \"seconds\")\n",
    "accuracy5=accuracy_score(y_test,y_pred)\n",
    "print(\"Accuracy=\",accuracy5)\n",
    "precision5=precision_score(y_test,y_pred,zero_division=1)\n",
    "print(\"Precision=\",precision5)\n",
    "recall5=recall_score(y_test,y_pred)\n",
    "print(\"Recall=\",recall5)\n",
    "f1_5=f1_score(y_test,y_pred)\n",
    "print(\"F1 score=\",f1_5)\n",
    "cohen_kappa5=cohen_kappa_score(y_test,y_pred)\n",
    "print(\"Cohen kappa score=\",cohen_kappa5)"
   ]
  },
  {
   "cell_type": "code",
   "execution_count": 74,
   "id": "c5bc66ee",
   "metadata": {},
   "outputs": [
    {
     "name": "stdout",
     "output_type": "stream",
     "text": [
      "Bernoulli Naive bayes\n",
      "0.015457868576049805 seconds\n",
      "Accuracy= 0.8145993123512298\n",
      "Precision= 0.18\n",
      "Recall= 0.013452914798206279\n",
      "F1 score= 0.025034770514603618\n",
      "Cohen kappa score= 0.000436711030423087\n"
     ]
    }
   ],
   "source": [
    "from sklearn.naive_bayes import BernoulliNB\n",
    "start=time.time()\n",
    "bnb=BernoulliNB()\n",
    "bnb.fit(X_train,y_train)\n",
    "y_pred=bnb.predict(X_test)\n",
    "end=time.time()\n",
    "print(\"Bernoulli Naive bayes\")\n",
    "print(end - start, \"seconds\")\n",
    "accuracy=accuracy_score(y_test,y_pred)\n",
    "print(\"Accuracy=\",accuracy)\n",
    "precision=precision_score(y_test,y_pred,zero_division=1)\n",
    "print(\"Precision=\",precision)\n",
    "recall=recall_score(y_test,y_pred)\n",
    "print(\"Recall=\",recall)\n",
    "f1=f1_score(y_test,y_pred)\n",
    "print(\"F1 score=\",f1)\n",
    "cohen_kappa=cohen_kappa_score(y_test,y_pred)\n",
    "print(\"Cohen kappa score=\",cohen_kappa)"
   ]
  },
  {
   "cell_type": "code",
   "execution_count": 75,
   "id": "eb3459b5",
   "metadata": {},
   "outputs": [
    {
     "name": "stdout",
     "output_type": "stream",
     "text": [
      "Best hyperparameters:  {'alpha': 0.01, 'binarize': -1}\n"
     ]
    }
   ],
   "source": [
    "#hyperparameter tuning using grid search\n",
    "param_grid = {'alpha': [0.01,0.1,10, 50],\n",
    "              'binarize': [-1, 0, 0.1, 0.5, 1, 5]}\n",
    "grid_search = GridSearchCV(bnb, param_grid, cv=5, scoring='accuracy')\n",
    "grid_search.fit(x1,y1)\n",
    "print(\"Best hyperparameters: \", grid_search.best_params_)"
   ]
  },
  {
   "cell_type": "code",
   "execution_count": 76,
   "id": "2d4b2f5f",
   "metadata": {},
   "outputs": [
    {
     "name": "stdout",
     "output_type": "stream",
     "text": [
      "Gaussian Naive Bayes after hyperparameter tuning\n",
      "0.012898683547973633 seconds\n",
      "Accuracy= 0.8230626818302037\n",
      "Precision= 1.0\n",
      "Recall= 0.0\n",
      "F1 score= 0.0\n",
      "Cohen kappa score= 0.0\n"
     ]
    }
   ],
   "source": [
    "start=time.time()\n",
    "bnb=BernoulliNB(alpha=0.01,binarize=-1)\n",
    "bnb.fit(X_train,y_train)\n",
    "y_pred=bnb.predict(X_test)\n",
    "end=time.time()\n",
    "print(\"Gaussian Naive Bayes after hyperparameter tuning\")\n",
    "print(end - start, \"seconds\")\n",
    "accuracy6=accuracy_score(y_test,y_pred)\n",
    "print(\"Accuracy=\",accuracy6)\n",
    "precision6=precision_score(y_test,y_pred,zero_division=1)\n",
    "print(\"Precision=\",precision6)\n",
    "recall6=recall_score(y_test,y_pred)\n",
    "print(\"Recall=\",recall6)\n",
    "f1_6=f1_score(y_test,y_pred)\n",
    "print(\"F1 score=\",f1_6)\n",
    "cohen_kappa6=cohen_kappa_score(y_test,y_pred)\n",
    "print(\"Cohen kappa score=\",cohen_kappa6)"
   ]
  },
  {
   "cell_type": "code",
   "execution_count": 54,
   "id": "6ee1d1dd",
   "metadata": {},
   "outputs": [
    {
     "data": {
      "image/png": "[encoded data removed]",
      "text/plain": [
       "<Figure size 432x288 with 1 Axes>"
      ]
     },
     "metadata": {
      "needs_background": "light"
     },
     "output_type": "display_data"
    },
    {
     "data": {
      "text/plain": [
       "<Figure size 720x720 with 0 Axes>"
      ]
     },
     "metadata": {},
     "output_type": "display_data"
    }
   ],
   "source": [
    "data = [accuracy1, accuracy2, accuracy3, accuracy4, accuracy5,accuracy6]\n",
    "labels = ['SVM', 'KNN', 'DT', 'LR', 'Gaussian','Bernoulli']\n",
    "\n",
    "plt.bar(labels, data)\n",
    "\n",
    "plt.title('Accuracy comparison')\n",
    "plt.figure(figsize=(10, 10))\n",
    "\n",
    "plt.show()\n"
   ]
  },
  {
   "cell_type": "code",
   "execution_count": 55,
   "id": "2b3d4081",
   "metadata": {},
   "outputs": [
    {
     "data": {
      "image/png": "[encoded data removed]",
      "text/plain": [
       "<Figure size 432x288 with 1 Axes>"
      ]
     },
     "metadata": {
      "needs_background": "light"
     },
     "output_type": "display_data"
    },
    {
     "data": {
      "text/plain": [
       "<Figure size 720x720 with 0 Axes>"
      ]
     },
     "metadata": {},
     "output_type": "display_data"
    }
   ],
   "source": [
    "data = [precision1, precision2, precision3, precision4, precision5,precision6]\n",
    "labels = ['SVM', 'KNN', 'DT', 'LR', 'Gaussian','Bernoulli']\n",
    "\n",
    "plt.bar(labels, data)\n",
    "\n",
    "plt.title('Precision comparison')\n",
    "plt.figure(figsize=(10, 10))\n",
    "\n",
    "plt.show()\n"
   ]
  },
  {
   "cell_type": "code",
   "execution_count": 56,
   "id": "abbe9b39",
   "metadata": {},
   "outputs": [
    {
     "data": {
      "image/png": "[encoded data removed]",
      "text/plain": [
       "<Figure size 432x288 with 1 Axes>"
      ]
     },
     "metadata": {
      "needs_background": "light"
     },
     "output_type": "display_data"
    },
    {
     "data": {
      "text/plain": [
       "<Figure size 720x720 with 0 Axes>"
      ]
     },
     "metadata": {},
     "output_type": "display_data"
    }
   ],
   "source": [
    "data = [recall1, recall2, recall3, recall4, recall5, recall6]\n",
    "labels = ['SVM', 'KNN', 'DT', 'LR', 'Gaussian','Bernoulli']\n",
    "\n",
    "plt.bar(labels, data)\n",
    "\n",
    "plt.title('Recall comparison')\n",
    "plt.figure(figsize=(10, 10))\n",
    "\n",
    "plt.show()\n"
   ]
  },
  {
   "cell_type": "code",
   "execution_count": 57,
   "id": "3a6af2d6",
   "metadata": {},
   "outputs": [
    {
     "data": {
      "image/png": "[encoded data removed]",
      "text/plain": [
       "<Figure size 432x288 with 1 Axes>"
      ]
     },
     "metadata": {
      "needs_background": "light"
     },
     "output_type": "display_data"
    },
    {
     "data": {
      "text/plain": [
       "<Figure size 720x720 with 0 Axes>"
      ]
     },
     "metadata": {},
     "output_type": "display_data"
    }
   ],
   "source": [
    "data = [f1_1, f1_2, f1_3, f1_4, f1_5, f1_6]\n",
    "labels = ['SVM', 'KNN', 'DT', 'LR', 'Gaussian','Bernoulli']\n",
    "\n",
    "plt.bar(labels, data)\n",
    "\n",
    "plt.title('F1 Score comparison')\n",
    "plt.figure(figsize=(10, 10))\n",
    "\n",
    "plt.show()\n"
   ]
  },
  {
   "cell_type": "code",
   "execution_count": 58,
   "id": "9d559500",
   "metadata": {},
   "outputs": [
    {
     "data": {
      "image/png": "[encoded data removed]",
      "text/plain": [
       "<Figure size 432x288 with 1 Axes>"
      ]
     },
     "metadata": {
      "needs_background": "light"
     },
     "output_type": "display_data"
    },
    {
     "data": {
      "text/plain": [
       "<Figure size 720x720 with 0 Axes>"
      ]
     },
     "metadata": {},
     "output_type": "display_data"
    }
   ],
   "source": [
    "data = [cohen_kappa1, cohen_kappa2, cohen_kappa3, cohen_kappa4, cohen_kappa5, cohen_kappa6]\n",
    "labels = ['SVM', 'KNN', 'DT', 'LR', 'Gaussian','Bernoulli']\n",
    "\n",
    "plt.bar(labels, data)\n",
    "\n",
    "plt.title('Cohen Kappa Score comparison')\n",
    "plt.figure(figsize=(10, 10))\n",
    "\n",
    "plt.show()\n"
   ]
  },
  {
   "cell_type": "code",
   "execution_count": null,
   "id": "623646f6",
   "metadata": {},
   "outputs": [],
   "source": []
  }
 ],
 "metadata": {
  "kernelspec": {
   "display_name": "Python 3",
   "language": "python",
   "name": "python3"
  },
  "language_info": {
   "codemirror_mode": {
    "name": "ipython",
    "version": 3
   },
   "file_extension": ".py",
   "mimetype": "text/x-python",
   "name": "python",
   "nbconvert_exporter": "python",
   "pygments_lexer": "ipython3",
   "version": "3.8.10"
  }
 },
 "nbformat": 4,
 "nbformat_minor": 5
}
